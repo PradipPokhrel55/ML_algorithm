{
  "cells": [
    {
      "cell_type": "code",
      "execution_count": null,
      "metadata": {
        "id": "_6eavYXX8CsO"
      },
      "outputs": [],
      "source": [
        "import pandas as pd\n",
        "import numpy as np\n",
        "import torch\n",
        "import torch.nn as nn\n",
        "import torch.optim as optim\n",
        "from sklearn.model_selection import train_test_split\n",
        "from sklearn.preprocessing import StandardScaler , LabelEncoder\n",
        "from torch.utils.data import DataLoader,Dataset\n",
        "import matplotlib.pyplot as plt\n",
        "import seaborn as sns"
      ]
    },
    {
      "cell_type": "code",
      "execution_count": null,
      "metadata": {
        "id": "vuACeAOX7tln"
      },
      "outputs": [],
      "source": [
        "\n",
        "train_data = pd.read_csv(\"train.csv\")\n",
        "\n",
        "test_data = pd.read_csv(\"test.csv\")\n"
      ]
    },
    {
      "cell_type": "code",
      "execution_count": null,
      "metadata": {
        "colab": {
          "base_uri": "https://localhost:8080/",
          "height": 206
        },
        "id": "atxQrRl98L8S",
        "outputId": "ef6aafff-2300-46e9-dc04-a703b44ea1d2"
      },
      "outputs": [
        {
          "data": {
            "application/vnd.google.colaboratory.intrinsic+json": {
              "summary": "{\n  \"name\": \"test_data\",\n  \"rows\": 98550,\n  \"fields\": [\n    {\n      \"column\": \"id\",\n      \"properties\": {\n        \"dtype\": \"number\",\n        \"std\": 28449,\n        \"min\": 230130,\n        \"max\": 328679,\n        \"num_unique_values\": 98550,\n        \"samples\": [\n          310084,\n          313682,\n          292235\n        ],\n        \"semantic_type\": \"\",\n        \"description\": \"\"\n      }\n    },\n    {\n      \"column\": \"date\",\n      \"properties\": {\n        \"dtype\": \"object\",\n        \"num_unique_values\": 1095,\n        \"samples\": [\n          \"2018-06-18\",\n          \"2017-05-20\",\n          \"2017-03-30\"\n        ],\n        \"semantic_type\": \"\",\n        \"description\": \"\"\n      }\n    },\n    {\n      \"column\": \"country\",\n      \"properties\": {\n        \"dtype\": \"category\",\n        \"num_unique_values\": 6,\n        \"samples\": [\n          \"Canada\",\n          \"Finland\",\n          \"Singapore\"\n        ],\n        \"semantic_type\": \"\",\n        \"description\": \"\"\n      }\n    },\n    {\n      \"column\": \"store\",\n      \"properties\": {\n        \"dtype\": \"category\",\n        \"num_unique_values\": 3,\n        \"samples\": [\n          \"Discount Stickers\",\n          \"Stickers for Less\",\n          \"Premium Sticker Mart\"\n        ],\n        \"semantic_type\": \"\",\n        \"description\": \"\"\n      }\n    },\n    {\n      \"column\": \"product\",\n      \"properties\": {\n        \"dtype\": \"category\",\n        \"num_unique_values\": 5,\n        \"samples\": [\n          \"Kaggle\",\n          \"Kerneler Dark Mode\",\n          \"Kaggle Tiers\"\n        ],\n        \"semantic_type\": \"\",\n        \"description\": \"\"\n      }\n    }\n  ]\n}",
              "type": "dataframe",
              "variable_name": "test_data"
            },
            "text/html": [
              "\n",
              "  <div id=\"df-6b46da3b-72c2-4213-8ce5-e13248c2b6ea\" class=\"colab-df-container\">\n",
              "    <div>\n",
              "<style scoped>\n",
              "    .dataframe tbody tr th:only-of-type {\n",
              "        vertical-align: middle;\n",
              "    }\n",
              "\n",
              "    .dataframe tbody tr th {\n",
              "        vertical-align: top;\n",
              "    }\n",
              "\n",
              "    .dataframe thead th {\n",
              "        text-align: right;\n",
              "    }\n",
              "</style>\n",
              "<table border=\"1\" class=\"dataframe\">\n",
              "  <thead>\n",
              "    <tr style=\"text-align: right;\">\n",
              "      <th></th>\n",
              "      <th>id</th>\n",
              "      <th>date</th>\n",
              "      <th>country</th>\n",
              "      <th>store</th>\n",
              "      <th>product</th>\n",
              "    </tr>\n",
              "  </thead>\n",
              "  <tbody>\n",
              "    <tr>\n",
              "      <th>0</th>\n",
              "      <td>230130</td>\n",
              "      <td>2017-01-01</td>\n",
              "      <td>Canada</td>\n",
              "      <td>Discount Stickers</td>\n",
              "      <td>Holographic Goose</td>\n",
              "    </tr>\n",
              "    <tr>\n",
              "      <th>1</th>\n",
              "      <td>230131</td>\n",
              "      <td>2017-01-01</td>\n",
              "      <td>Canada</td>\n",
              "      <td>Discount Stickers</td>\n",
              "      <td>Kaggle</td>\n",
              "    </tr>\n",
              "    <tr>\n",
              "      <th>2</th>\n",
              "      <td>230132</td>\n",
              "      <td>2017-01-01</td>\n",
              "      <td>Canada</td>\n",
              "      <td>Discount Stickers</td>\n",
              "      <td>Kaggle Tiers</td>\n",
              "    </tr>\n",
              "    <tr>\n",
              "      <th>3</th>\n",
              "      <td>230133</td>\n",
              "      <td>2017-01-01</td>\n",
              "      <td>Canada</td>\n",
              "      <td>Discount Stickers</td>\n",
              "      <td>Kerneler</td>\n",
              "    </tr>\n",
              "    <tr>\n",
              "      <th>4</th>\n",
              "      <td>230134</td>\n",
              "      <td>2017-01-01</td>\n",
              "      <td>Canada</td>\n",
              "      <td>Discount Stickers</td>\n",
              "      <td>Kerneler Dark Mode</td>\n",
              "    </tr>\n",
              "  </tbody>\n",
              "</table>\n",
              "</div>\n",
              "    <div class=\"colab-df-buttons\">\n",
              "\n",
              "  <div class=\"colab-df-container\">\n",
              "    <button class=\"colab-df-convert\" onclick=\"convertToInteractive('df-6b46da3b-72c2-4213-8ce5-e13248c2b6ea')\"\n",
              "            title=\"Convert this dataframe to an interactive table.\"\n",
              "            style=\"display:none;\">\n",
              "\n",
              "  <svg xmlns=\"http://www.w3.org/2000/svg\" height=\"24px\" viewBox=\"0 -960 960 960\">\n",
              "    <path d=\"M120-120v-720h720v720H120Zm60-500h600v-160H180v160Zm220 220h160v-160H400v160Zm0 220h160v-160H400v160ZM180-400h160v-160H180v160Zm440 0h160v-160H620v160ZM180-180h160v-160H180v160Zm440 0h160v-160H620v160Z\"/>\n",
              "  </svg>\n",
              "    </button>\n",
              "\n",
              "  <style>\n",
              "    .colab-df-container {\n",
              "      display:flex;\n",
              "      gap: 12px;\n",
              "    }\n",
              "\n",
              "    .colab-df-convert {\n",
              "      background-color: #E8F0FE;\n",
              "      border: none;\n",
              "      border-radius: 50%;\n",
              "      cursor: pointer;\n",
              "      display: none;\n",
              "      fill: #1967D2;\n",
              "      height: 32px;\n",
              "      padding: 0 0 0 0;\n",
              "      width: 32px;\n",
              "    }\n",
              "\n",
              "    .colab-df-convert:hover {\n",
              "      background-color: #E2EBFA;\n",
              "      box-shadow: 0px 1px 2px rgba(60, 64, 67, 0.3), 0px 1px 3px 1px rgba(60, 64, 67, 0.15);\n",
              "      fill: #174EA6;\n",
              "    }\n",
              "\n",
              "    .colab-df-buttons div {\n",
              "      margin-bottom: 4px;\n",
              "    }\n",
              "\n",
              "    [theme=dark] .colab-df-convert {\n",
              "      background-color: #3B4455;\n",
              "      fill: #D2E3FC;\n",
              "    }\n",
              "\n",
              "    [theme=dark] .colab-df-convert:hover {\n",
              "      background-color: #434B5C;\n",
              "      box-shadow: 0px 1px 3px 1px rgba(0, 0, 0, 0.15);\n",
              "      filter: drop-shadow(0px 1px 2px rgba(0, 0, 0, 0.3));\n",
              "      fill: #FFFFFF;\n",
              "    }\n",
              "  </style>\n",
              "\n",
              "    <script>\n",
              "      const buttonEl =\n",
              "        document.querySelector('#df-6b46da3b-72c2-4213-8ce5-e13248c2b6ea button.colab-df-convert');\n",
              "      buttonEl.style.display =\n",
              "        google.colab.kernel.accessAllowed ? 'block' : 'none';\n",
              "\n",
              "      async function convertToInteractive(key) {\n",
              "        const element = document.querySelector('#df-6b46da3b-72c2-4213-8ce5-e13248c2b6ea');\n",
              "        const dataTable =\n",
              "          await google.colab.kernel.invokeFunction('convertToInteractive',\n",
              "                                                    [key], {});\n",
              "        if (!dataTable) return;\n",
              "\n",
              "        const docLinkHtml = 'Like what you see? Visit the ' +\n",
              "          '<a target=\"_blank\" href=https://colab.research.google.com/notebooks/data_table.ipynb>data table notebook</a>'\n",
              "          + ' to learn more about interactive tables.';\n",
              "        element.innerHTML = '';\n",
              "        dataTable['output_type'] = 'display_data';\n",
              "        await google.colab.output.renderOutput(dataTable, element);\n",
              "        const docLink = document.createElement('div');\n",
              "        docLink.innerHTML = docLinkHtml;\n",
              "        element.appendChild(docLink);\n",
              "      }\n",
              "    </script>\n",
              "  </div>\n",
              "\n",
              "\n",
              "<div id=\"df-ab0aeb96-d130-46d1-8e1c-cfbb5992f366\">\n",
              "  <button class=\"colab-df-quickchart\" onclick=\"quickchart('df-ab0aeb96-d130-46d1-8e1c-cfbb5992f366')\"\n",
              "            title=\"Suggest charts\"\n",
              "            style=\"display:none;\">\n",
              "\n",
              "<svg xmlns=\"http://www.w3.org/2000/svg\" height=\"24px\"viewBox=\"0 0 24 24\"\n",
              "     width=\"24px\">\n",
              "    <g>\n",
              "        <path d=\"M19 3H5c-1.1 0-2 .9-2 2v14c0 1.1.9 2 2 2h14c1.1 0 2-.9 2-2V5c0-1.1-.9-2-2-2zM9 17H7v-7h2v7zm4 0h-2V7h2v10zm4 0h-2v-4h2v4z\"/>\n",
              "    </g>\n",
              "</svg>\n",
              "  </button>\n",
              "\n",
              "<style>\n",
              "  .colab-df-quickchart {\n",
              "      --bg-color: #E8F0FE;\n",
              "      --fill-color: #1967D2;\n",
              "      --hover-bg-color: #E2EBFA;\n",
              "      --hover-fill-color: #174EA6;\n",
              "      --disabled-fill-color: #AAA;\n",
              "      --disabled-bg-color: #DDD;\n",
              "  }\n",
              "\n",
              "  [theme=dark] .colab-df-quickchart {\n",
              "      --bg-color: #3B4455;\n",
              "      --fill-color: #D2E3FC;\n",
              "      --hover-bg-color: #434B5C;\n",
              "      --hover-fill-color: #FFFFFF;\n",
              "      --disabled-bg-color: #3B4455;\n",
              "      --disabled-fill-color: #666;\n",
              "  }\n",
              "\n",
              "  .colab-df-quickchart {\n",
              "    background-color: var(--bg-color);\n",
              "    border: none;\n",
              "    border-radius: 50%;\n",
              "    cursor: pointer;\n",
              "    display: none;\n",
              "    fill: var(--fill-color);\n",
              "    height: 32px;\n",
              "    padding: 0;\n",
              "    width: 32px;\n",
              "  }\n",
              "\n",
              "  .colab-df-quickchart:hover {\n",
              "    background-color: var(--hover-bg-color);\n",
              "    box-shadow: 0 1px 2px rgba(60, 64, 67, 0.3), 0 1px 3px 1px rgba(60, 64, 67, 0.15);\n",
              "    fill: var(--button-hover-fill-color);\n",
              "  }\n",
              "\n",
              "  .colab-df-quickchart-complete:disabled,\n",
              "  .colab-df-quickchart-complete:disabled:hover {\n",
              "    background-color: var(--disabled-bg-color);\n",
              "    fill: var(--disabled-fill-color);\n",
              "    box-shadow: none;\n",
              "  }\n",
              "\n",
              "  .colab-df-spinner {\n",
              "    border: 2px solid var(--fill-color);\n",
              "    border-color: transparent;\n",
              "    border-bottom-color: var(--fill-color);\n",
              "    animation:\n",
              "      spin 1s steps(1) infinite;\n",
              "  }\n",
              "\n",
              "  @keyframes spin {\n",
              "    0% {\n",
              "      border-color: transparent;\n",
              "      border-bottom-color: var(--fill-color);\n",
              "      border-left-color: var(--fill-color);\n",
              "    }\n",
              "    20% {\n",
              "      border-color: transparent;\n",
              "      border-left-color: var(--fill-color);\n",
              "      border-top-color: var(--fill-color);\n",
              "    }\n",
              "    30% {\n",
              "      border-color: transparent;\n",
              "      border-left-color: var(--fill-color);\n",
              "      border-top-color: var(--fill-color);\n",
              "      border-right-color: var(--fill-color);\n",
              "    }\n",
              "    40% {\n",
              "      border-color: transparent;\n",
              "      border-right-color: var(--fill-color);\n",
              "      border-top-color: var(--fill-color);\n",
              "    }\n",
              "    60% {\n",
              "      border-color: transparent;\n",
              "      border-right-color: var(--fill-color);\n",
              "    }\n",
              "    80% {\n",
              "      border-color: transparent;\n",
              "      border-right-color: var(--fill-color);\n",
              "      border-bottom-color: var(--fill-color);\n",
              "    }\n",
              "    90% {\n",
              "      border-color: transparent;\n",
              "      border-bottom-color: var(--fill-color);\n",
              "    }\n",
              "  }\n",
              "</style>\n",
              "\n",
              "  <script>\n",
              "    async function quickchart(key) {\n",
              "      const quickchartButtonEl =\n",
              "        document.querySelector('#' + key + ' button');\n",
              "      quickchartButtonEl.disabled = true;  // To prevent multiple clicks.\n",
              "      quickchartButtonEl.classList.add('colab-df-spinner');\n",
              "      try {\n",
              "        const charts = await google.colab.kernel.invokeFunction(\n",
              "            'suggestCharts', [key], {});\n",
              "      } catch (error) {\n",
              "        console.error('Error during call to suggestCharts:', error);\n",
              "      }\n",
              "      quickchartButtonEl.classList.remove('colab-df-spinner');\n",
              "      quickchartButtonEl.classList.add('colab-df-quickchart-complete');\n",
              "    }\n",
              "    (() => {\n",
              "      let quickchartButtonEl =\n",
              "        document.querySelector('#df-ab0aeb96-d130-46d1-8e1c-cfbb5992f366 button');\n",
              "      quickchartButtonEl.style.display =\n",
              "        google.colab.kernel.accessAllowed ? 'block' : 'none';\n",
              "    })();\n",
              "  </script>\n",
              "</div>\n",
              "\n",
              "    </div>\n",
              "  </div>\n"
            ],
            "text/plain": [
              "       id        date country              store             product\n",
              "0  230130  2017-01-01  Canada  Discount Stickers   Holographic Goose\n",
              "1  230131  2017-01-01  Canada  Discount Stickers              Kaggle\n",
              "2  230132  2017-01-01  Canada  Discount Stickers        Kaggle Tiers\n",
              "3  230133  2017-01-01  Canada  Discount Stickers            Kerneler\n",
              "4  230134  2017-01-01  Canada  Discount Stickers  Kerneler Dark Mode"
            ]
          },
          "execution_count": 92,
          "metadata": {},
          "output_type": "execute_result"
        }
      ],
      "source": [
        "test_data.head()"
      ]
    },
    {
      "cell_type": "code",
      "execution_count": null,
      "metadata": {
        "colab": {
          "base_uri": "https://localhost:8080/"
        },
        "id": "C7qE9AbnHSd5",
        "outputId": "ad634e8e-3320-4c7c-f8c6-cf34a893d745"
      },
      "outputs": [
        {
          "name": "stderr",
          "output_type": "stream",
          "text": [
            "<ipython-input-93-a05fe3828418>:1: FutureWarning: A value is trying to be set on a copy of a DataFrame or Series through chained assignment using an inplace method.\n",
            "The behavior will change in pandas 3.0. This inplace method will never work because the intermediate object on which we are setting values always behaves as a copy.\n",
            "\n",
            "For example, when doing 'df[col].method(value, inplace=True)', try using 'df.method({col: value}, inplace=True)' or df[col] = df[col].method(value) instead, to perform the operation inplace on the original object.\n",
            "\n",
            "\n",
            "  train_data['country'].fillna(train_data['country'].mode()[0], inplace = True)\n",
            "<ipython-input-93-a05fe3828418>:2: FutureWarning: A value is trying to be set on a copy of a DataFrame or Series through chained assignment using an inplace method.\n",
            "The behavior will change in pandas 3.0. This inplace method will never work because the intermediate object on which we are setting values always behaves as a copy.\n",
            "\n",
            "For example, when doing 'df[col].method(value, inplace=True)', try using 'df.method({col: value}, inplace=True)' or df[col] = df[col].method(value) instead, to perform the operation inplace on the original object.\n",
            "\n",
            "\n",
            "  train_data['store'].fillna(train_data['store'].mode()[0] , inplace = True)\n",
            "<ipython-input-93-a05fe3828418>:3: FutureWarning: A value is trying to be set on a copy of a DataFrame or Series through chained assignment using an inplace method.\n",
            "The behavior will change in pandas 3.0. This inplace method will never work because the intermediate object on which we are setting values always behaves as a copy.\n",
            "\n",
            "For example, when doing 'df[col].method(value, inplace=True)', try using 'df.method({col: value}, inplace=True)' or df[col] = df[col].method(value) instead, to perform the operation inplace on the original object.\n",
            "\n",
            "\n",
            "  train_data['product'].fillna(train_data['product'].mode()[0] , inplace= True)\n"
          ]
        }
      ],
      "source": [
        "train_data['country'].fillna(train_data['country'].mode()[0], inplace = True)\n",
        "train_data['store'].fillna(train_data['store'].mode()[0] , inplace = True)\n",
        "train_data['product'].fillna(train_data['product'].mode()[0] , inplace= True)\n",
        "\n",
        "train_data['date'] = pd.to_datetime(train_data['date'], errors='coerce')\n",
        "train_data['date'] = train_data['date'].fillna(train_data['date'].min())\n",
        "train_data['date'] = train_data['date'].map(pd.Timestamp.toordinal)\n"
      ]
    },
    {
      "cell_type": "code",
      "execution_count": null,
      "metadata": {
        "id": "mfKseZQFJQQY"
      },
      "outputs": [],
      "source": [
        "labelencoder = LabelEncoder()\n",
        "train_data['country'] = labelencoder.fit_transform(train_data['country'])\n",
        "train_data['product'] = labelencoder.fit_transform(train_data['product'])\n",
        "train_data['store'] = labelencoder.fit_transform(train_data['store'])"
      ]
    },
    {
      "cell_type": "code",
      "execution_count": null,
      "metadata": {
        "colab": {
          "base_uri": "https://localhost:8080/"
        },
        "id": "M6e3gzelJanA",
        "outputId": "de68cbbe-8733-43f6-9947-291d11da2261"
      },
      "outputs": [
        {
          "name": "stdout",
          "output_type": "stream",
          "text": [
            "8871\n"
          ]
        },
        {
          "name": "stderr",
          "output_type": "stream",
          "text": [
            "<ipython-input-95-ef1238a93286>:6: FutureWarning: A value is trying to be set on a copy of a DataFrame or Series through chained assignment using an inplace method.\n",
            "The behavior will change in pandas 3.0. This inplace method will never work because the intermediate object on which we are setting values always behaves as a copy.\n",
            "\n",
            "For example, when doing 'df[col].method(value, inplace=True)', try using 'df.method({col: value}, inplace=True)' or df[col] = df[col].method(value) instead, to perform the operation inplace on the original object.\n",
            "\n",
            "\n",
            "  train_data['num_sold'].fillna(train_data['num_sold'].mean(), inplace=True)\n"
          ]
        }
      ],
      "source": [
        "\n",
        "\n",
        "#min_length = min(len(X), len(y))\n",
        "#X = X[:min_length]\n",
        "#y = y[:min_length]\n",
        "print(train_data['num_sold'].isnull().sum())  # Check for NaNs in the target column\n",
        "\n",
        "train_data['num_sold'].fillna(train_data['num_sold'].mean(), inplace=True)\n"
      ]
    },
    {
      "cell_type": "code",
      "execution_count": null,
      "metadata": {
        "id": "zqd_6lmwLWGH"
      },
      "outputs": [],
      "source": [
        "\n"
      ]
    },
    {
      "cell_type": "code",
      "execution_count": null,
      "metadata": {
        "colab": {
          "base_uri": "https://localhost:8080/"
        },
        "id": "msn9TAhbMU7e",
        "outputId": "fc139460-adef-4d14-8496-b723c52844d1"
      },
      "outputs": [
        {
          "name": "stdout",
          "output_type": "stream",
          "text": [
            "Correlation of each feature with 'num_sold':\n",
            "id         -0.040000\n",
            "date       -0.040068\n",
            "country     0.126391\n",
            "store       0.233647\n",
            "product     0.004082\n",
            "num_sold    1.000000\n",
            "Name: num_sold, dtype: float64\n"
          ]
        }
      ],
      "source": [
        "correlation_matrix = train_data.corr()\n",
        "\n",
        "# Extract correlation with the target variable ('num_sold')\n",
        "correlation_with_target = correlation_matrix['num_sold']\n",
        "\n",
        "print(\"Correlation of each feature with 'num_sold':\")\n",
        "print(correlation_with_target)"
      ]
    },
    {
      "cell_type": "code",
      "execution_count": null,
      "metadata": {
        "colab": {
          "base_uri": "https://localhost:8080/",
          "height": 699
        },
        "id": "Mwg7nDvpR9tz",
        "outputId": "7549f752-5492-4b1d-8a27-7f2f06780cfb"
      },
      "outputs": [
        {
          "data": {
            "image/png": "[encoded data removed]",
            "text/plain": [
              "<Figure size 1000x800 with 2 Axes>"
            ]
          },
          "metadata": {},
          "output_type": "display_data"
        }
      ],
      "source": [
        "# Plot a heatmap\n",
        "plt.figure(figsize=(10, 8))\n",
        "sns.heatmap(correlation_matrix, annot=True, cmap='coolwarm', fmt=\".2f\",vmin=-1,vmax=1)\n",
        "plt.title(\"Correlation Heatmap\")\n",
        "plt.show()\n"
      ]
    },
    {
      "cell_type": "code",
      "execution_count": null,
      "metadata": {
        "id": "cX6vMINbtMWA"
      },
      "outputs": [],
      "source": [
        "X = train_data.drop(['num_sold','date','product'],axis=1).values\n",
        "y = train_data['num_sold'].values\n"
      ]
    },
    {
      "cell_type": "code",
      "execution_count": null,
      "metadata": {
        "id": "Miat5wcWwdg8"
      },
      "outputs": [],
      "source": [
        "X_train,X_val,y_train,y_val = train_test_split(X,y,random_state=42,test_size=0.2)\n",
        "scaler=StandardScaler()\n",
        "X_train = scaler.fit_transform(X_train)\n",
        "X_val = scaler.transform(X_val)\n",
        "assert not np.isnan(X_train).any(), \"Found NaN in X_train\"\n",
        "assert not np.isinf(X_train).any(), \"Found Inf in X_train\"\n",
        "assert not np.isnan(y_train).any(), \"Found NaN in y_train\"\n",
        "assert not np.isinf(y_train).any(), \"Found Inf in y_train\""
      ]
    },
    {
      "cell_type": "code",
      "execution_count": null,
      "metadata": {
        "id": "RIdax8CFxI4S"
      },
      "outputs": [],
      "source": [
        "class StickerSales(Dataset):\n",
        "  def __init__(self,features,labels):\n",
        "    self.features =torch.tensor(features , dtype = torch.float32)\n",
        "    self.labels = torch.tensor(labels , dtype= torch.float32)\n",
        "\n",
        "  def __len__(self):\n",
        "    return len(self.features)\n",
        "\n",
        "  def __getitem__(self , idx):\n",
        "    return self.features[idx] , self.labels[idx]\n",
        "\n",
        "\n",
        "train_datasets = StickerSales(X_train,y_train)\n",
        "val_datasets = StickerSales(X_val , y_val)\n",
        "\n",
        "train_loader = DataLoader(train_datasets,batch_size = 32 , shuffle = True)\n",
        "val_loader = DataLoader(val_datasets,batch_size = 32 , shuffle=False)"
      ]
    },
    {
      "cell_type": "code",
      "execution_count": null,
      "metadata": {
        "colab": {
          "base_uri": "https://localhost:8080/"
        },
        "id": "fgloWtoqxZ4s",
        "outputId": "74412a38-df3c-4916-f5c7-df5737cae248"
      },
      "outputs": [
        {
          "name": "stdout",
          "output_type": "stream",
          "text": [
            "StickerModel(\n",
            "  (fc1): Linear(in_features=3, out_features=16, bias=True)\n",
            "  (relu1): ReLU()\n",
            "  (fc2): Linear(in_features=16, out_features=64, bias=True)\n",
            "  (relu2): ReLU()\n",
            "  (fc3): Linear(in_features=64, out_features=256, bias=True)\n",
            "  (relu3): ReLU()\n",
            "  (fc4): Linear(in_features=256, out_features=1024, bias=True)\n",
            "  (relu4): ReLU()\n",
            "  (fc5): Linear(in_features=1024, out_features=256, bias=True)\n",
            "  (relu5): ReLU()\n",
            "  (fc6): Linear(in_features=256, out_features=64, bias=True)\n",
            "  (relu6): ReLU()\n",
            "  (fc7): Linear(in_features=64, out_features=16, bias=True)\n",
            "  (relu7): ReLU()\n",
            "  (fc8): Linear(in_features=16, out_features=4, bias=True)\n",
            "  (relu8): ReLU()\n",
            "  (fc9): Linear(in_features=4, out_features=1, bias=True)\n",
            ")\n"
          ]
        }
      ],
      "source": [
        "class StickerModel(nn.Module):\n",
        "    def __init__(self):\n",
        "        super(StickerModel, self).__init__()\n",
        "        self.fc1 = nn.Linear(3, 16)\n",
        "        self.relu1 = nn.ReLU()\n",
        "        self.fc2 = nn.Linear(16, 64)\n",
        "        self.relu2 = nn.ReLU()\n",
        "        self.fc3 = nn.Linear(64, 256)\n",
        "        self.relu3 = nn.ReLU()\n",
        "        self.fc4 = nn.Linear(256, 1024)\n",
        "        self.relu4 = nn.ReLU()\n",
        "        self.fc5 = nn.Linear(1024, 256)\n",
        "        self.relu5 = nn.ReLU()\n",
        "        self.fc6 = nn.Linear(256, 64)\n",
        "        self.relu6 = nn.ReLU()\n",
        "        self.fc7 = nn.Linear(64, 16)\n",
        "        self.relu7 = nn.ReLU()\n",
        "        self.fc8 = nn.Linear(16, 4)\n",
        "        self.relu8 = nn.ReLU()\n",
        "        self.fc9 = nn.Linear(4, 1)\n",
        "\n",
        "    def forward(self, x):\n",
        "        x = self.relu1(self.fc1(x))\n",
        "        x = self.relu2(self.fc2(x))\n",
        "        x = self.relu3(self.fc3(x))\n",
        "        x = self.relu4(self.fc4(x))\n",
        "        x = self.relu5(self.fc5(x))\n",
        "        x = self.relu6(self.fc6(x))\n",
        "        x = self.relu7(self.fc7(x))\n",
        "        x = self.relu8(self.fc8(x))\n",
        "        x = self.fc9(x)\n",
        "        return x\n",
        "\n",
        "\n",
        "model = StickerModel()\n",
        "print(model)\n"
      ]
    },
    {
      "cell_type": "code",
      "execution_count": null,
      "metadata": {
        "id": "lB6g5z_AzU52"
      },
      "outputs": [],
      "source": [
        "criterion = nn.MSELoss()\n",
        "optimizer = optim.Adam(model.parameters() , lr = 0.001 )"
      ]
    },
    {
      "cell_type": "code",
      "execution_count": null,
      "metadata": {
        "colab": {
          "background_save": true,
          "base_uri": "https://localhost:8080/"
        },
        "id": "CTqAzFf80CjF",
        "outputId": "e86a3b84-a324-447c-f41a-3e5a6fab71ff"
      },
      "outputs": [
        {
          "name": "stdout",
          "output_type": "stream",
          "text": [
            "Epoch 1/50, Train Loss: 261393.9274, Val Loss: 231418.1486\n",
            "Epoch 2/50, Train Loss: 232300.7745, Val Loss: 229000.6715\n",
            "Epoch 3/50, Train Loss: 231887.9611, Val Loss: 229416.1184\n",
            "Epoch 4/50, Train Loss: 230582.0776, Val Loss: 232248.5275\n",
            "Epoch 5/50, Train Loss: 230606.8399, Val Loss: 233427.4144\n",
            "Epoch 6/50, Train Loss: 230084.0395, Val Loss: 227600.4030\n",
            "Epoch 7/50, Train Loss: 229670.6814, Val Loss: 241113.1916\n",
            "Epoch 8/50, Train Loss: 229695.3989, Val Loss: 227923.1071\n",
            "Epoch 9/50, Train Loss: 229073.1608, Val Loss: 228526.6969\n",
            "Epoch 10/50, Train Loss: 229066.2135, Val Loss: 227726.1439\n",
            "Epoch 11/50, Train Loss: 229208.6156, Val Loss: 230443.7871\n",
            "Epoch 12/50, Train Loss: 229068.0226, Val Loss: 229112.2204\n",
            "Epoch 13/50, Train Loss: 228253.0867, Val Loss: 229095.5801\n",
            "Epoch 14/50, Train Loss: 228136.9647, Val Loss: 229632.3057\n",
            "Epoch 15/50, Train Loss: 227998.5326, Val Loss: 226521.3128\n",
            "Epoch 16/50, Train Loss: 228100.5687, Val Loss: 231835.7598\n",
            "Epoch 17/50, Train Loss: 227927.6610, Val Loss: 227031.4049\n",
            "Epoch 18/50, Train Loss: 227770.6995, Val Loss: 227045.8692\n",
            "Epoch 19/50, Train Loss: 227863.3198, Val Loss: 229444.7764\n",
            "Epoch 20/50, Train Loss: 227774.0019, Val Loss: 226845.3154\n",
            "Epoch 21/50, Train Loss: 227719.6753, Val Loss: 230163.7760\n",
            "Epoch 22/50, Train Loss: 227472.5945, Val Loss: 230404.5780\n"
          ]
        }
      ],
      "source": [
        "num_epochs = 25\n",
        "for epoch in range(num_epochs):\n",
        "    model.train()\n",
        "    train_loss = 0.0\n",
        "    for features, labels in train_loader:\n",
        "\n",
        "        if torch.isnan(features).any() or torch.isinf(features).any():\n",
        "            print(\"Found NaN or Inf in features\")\n",
        "        if torch.isnan(labels).any() or torch.isinf(labels).any():\n",
        "            print(\"Found NaN or Inf in labels\")\n",
        "\n",
        "\n",
        "        outputs = model(features).squeeze(1)\n",
        "        loss = criterion(outputs, labels)\n",
        "\n",
        "\n",
        "        optimizer.zero_grad()\n",
        "        loss.backward()\n",
        "        torch.nn.utils.clip_grad_norm_(model.parameters(), max_norm=1.0)\n",
        "        optimizer.step()\n",
        "\n",
        "        train_loss += loss.item()\n",
        "\n",
        "\n",
        "    model.eval()\n",
        "    val_loss = 0.0\n",
        "    with torch.no_grad():\n",
        "        for features, labels in val_loader:\n",
        "            outputs = model(features).squeeze(1)\n",
        "            loss = criterion(outputs, labels)\n",
        "            val_loss += loss.item()\n",
        "\n",
        "\n",
        "    print(f\"Epoch {epoch+1}/{num_epochs}, Train Loss: {train_loss/len(train_loader):.4f}, Val Loss: {val_loss/len(val_loader):.4f}\")\n"
      ]
    },
    {
      "cell_type": "code",
      "execution_count": null,
      "metadata": {
        "id": "GSZvKVFv0U3p"
      },
      "outputs": [],
      "source": [
        "\n",
        "\n",
        "model.eval()\n",
        "y_pred = []\n",
        "y_true = []\n",
        "\n",
        "with torch.no_grad():\n",
        "    for features, labels in val_loader:\n",
        "        outputs = model(features).squeeze()\n",
        "        y_pred.extend(outputs.numpy())\n",
        "        y_true.extend(labels.numpy())\n",
        "\n",
        "from sklearn.metrics import mean_squared_error, r2_score\n",
        "\n",
        "mse = mean_squared_error(y_true, y_pred)\n",
        "print(f\"Validation MSE: {mse:.4f}\")\n",
        "\n",
        "r2 = r2_score(y_true, y_pred)\n",
        "print(f\"Validation R2: {r2:.4f}\")\n",
        "\n",
        "\n"
      ]
    },
    {
      "cell_type": "code",
      "execution_count": null,
      "metadata": {
        "id": "YC2xPKCl1ehk"
      },
      "outputs": [],
      "source": [
        "\n",
        "test_data['country'].fillna(test_data['country'].mode()[0], inplace=True)\n",
        "test_data['store'].fillna(test_data['store'].mode()[0], inplace=True)\n",
        "\n",
        "\n",
        "labelencoder = LabelEncoder()\n",
        "test_data['country'] = labelencoder.fit_transform(test_data['country'])\n",
        "test_data['store'] = labelencoder.fit_transform(test_data['store'])\n",
        "\n",
        "\n",
        "X_test = test_data.drop(['date', 'product'], axis=1).values\n",
        "X_test_scaled = scaler.transform(X_test)\n",
        "X_test_tensor = torch.tensor(X_test_scaled, dtype=torch.float32)\n",
        "\n",
        "\n",
        "model.eval()\n",
        "with torch.no_grad():\n",
        "    test_preds = model(X_test_tensor).squeeze().detach().numpy()\n",
        "\n",
        "\n",
        "submission = pd.read_csv('sample_submission.csv')\n",
        "submission['num_sold'] = test_preds\n",
        "submission.to_csv('submission1.csv', index=False)\n"
      ]
    },
    {
      "cell_type": "code",
      "execution_count": null,
      "metadata": {
        "id": "Qi5ISAbfeWC6"
      },
      "outputs": [],
      "source": []
    }
  ],
  "metadata": {
    "colab": {
      "provenance": []
    },
    "kernelspec": {
      "display_name": "Python 3",
      "name": "python3"
    },
    "language_info": {
      "name": "python"
    }
  },
  "nbformat": 4,
  "nbformat_minor": 0
}