{
  "cells": [
    {
      "cell_type": "code",
      "execution_count": null,
      "metadata": {
        "colab": {
          "base_uri": "https://localhost:8080/"
        },
        "collapsed": true,
        "id": "HSu2rwffOdYp",
        "outputId": "ad052517-86f2-4803-a4af-e601da2c7b27"
      },
      "outputs": [
        {
          "name": "stdout",
          "output_type": "stream",
          "text": [
            "Requirement already satisfied: numpy in /usr/local/lib/python3.10/dist-packages (1.26.4)\n",
            "Requirement already satisfied: pandas in /usr/local/lib/python3.10/dist-packages (2.2.2)\n",
            "Requirement already satisfied: matplotlib in /usr/local/lib/python3.10/dist-packages (3.8.0)\n",
            "Requirement already satisfied: scikit-learn in /usr/local/lib/python3.10/dist-packages (1.5.2)\n",
            "Requirement already satisfied: seaborn in /usr/local/lib/python3.10/dist-packages (0.13.2)\n",
            "Requirement already satisfied: python-dateutil>=2.8.2 in /usr/local/lib/python3.10/dist-packages (from pandas) (2.8.2)\n",
            "Requirement already satisfied: pytz>=2020.1 in /usr/local/lib/python3.10/dist-packages (from pandas) (2024.2)\n",
            "Requirement already satisfied: tzdata>=2022.7 in /usr/local/lib/python3.10/dist-packages (from pandas) (2024.2)\n",
            "Requirement already satisfied: contourpy>=1.0.1 in /usr/local/lib/python3.10/dist-packages (from matplotlib) (1.3.1)\n",
            "Requirement already satisfied: cycler>=0.10 in /usr/local/lib/python3.10/dist-packages (from matplotlib) (0.12.1)\n",
            "Requirement already satisfied: fonttools>=4.22.0 in /usr/local/lib/python3.10/dist-packages (from matplotlib) (4.54.1)\n",
            "Requirement already satisfied: kiwisolver>=1.0.1 in /usr/local/lib/python3.10/dist-packages (from matplotlib) (1.4.7)\n",
            "Requirement already satisfied: packaging>=20.0 in /usr/local/lib/python3.10/dist-packages (from matplotlib) (24.2)\n",
            "Requirement already satisfied: pillow>=6.2.0 in /usr/local/lib/python3.10/dist-packages (from matplotlib) (11.0.0)\n",
            "Requirement already satisfied: pyparsing>=2.3.1 in /usr/local/lib/python3.10/dist-packages (from matplotlib) (3.2.0)\n",
            "Requirement already satisfied: scipy>=1.6.0 in /usr/local/lib/python3.10/dist-packages (from scikit-learn) (1.13.1)\n",
            "Requirement already satisfied: joblib>=1.2.0 in /usr/local/lib/python3.10/dist-packages (from scikit-learn) (1.4.2)\n",
            "Requirement already satisfied: threadpoolctl>=3.1.0 in /usr/local/lib/python3.10/dist-packages (from scikit-learn) (3.5.0)\n",
            "Requirement already satisfied: six>=1.5 in /usr/local/lib/python3.10/dist-packages (from python-dateutil>=2.8.2->pandas) (1.16.0)\n"
          ]
        }
      ],
      "source": [
        "!pip install numpy pandas matplotlib scikit-learn seaborn\n"
      ]
    },
    {
      "cell_type": "code",
      "execution_count": 1,
      "metadata": {
        "id": "alPbWY62u7cb"
      },
      "outputs": [],
      "source": [
        "import numpy as np\n",
        "import pandas as pd\n",
        "import seaborn as sns\n",
        "import matplotlib.pyplot as plt\n",
        "from sklearn.model_selection import train_test_split"
      ]
    },
    {
      "cell_type": "code",
      "execution_count": 2,
      "metadata": {
        "colab": {
          "base_uri": "https://localhost:8080/"
        },
        "id": "-imIJr9kvQS3",
        "outputId": "beb7c711-26c6-4e8f-ff1c-a6d1fb2f8592"
      },
      "outputs": [
        {
          "name": "stdout",
          "output_type": "stream",
          "text": [
            "             Open time  Open  High  Low  Close  Volume  \\\n",
            "0  2017-11-06 03:54:00   1.5  1.50  1.5   1.50   10.83   \n",
            "1  2017-11-06 03:55:00   1.3  1.30  1.3   1.30    1.00   \n",
            "2  2017-11-06 03:56:00   1.3  1.30  0.5   0.50   19.00   \n",
            "3  2017-11-06 03:57:00   0.5  0.61  0.5   0.61  253.00   \n",
            "4  2017-11-06 03:58:00   1.1  1.10  1.1   1.10   85.00   \n",
            "\n",
            "                Close time  Quote asset volume  Number of trades  \\\n",
            "0  2017-11-06 03:54:59.999              16.245               2.0   \n",
            "1  2017-11-06 03:55:59.999               1.300               1.0   \n",
            "2  2017-11-06 03:56:59.999              24.356               6.0   \n",
            "3  2017-11-06 03:57:59.999             151.660              17.0   \n",
            "4  2017-11-06 03:58:59.999              93.500               1.0   \n",
            "\n",
            "   Taker buy base asset volume  Taker buy quote asset volume  Ignore  \n",
            "0                        10.83                        16.245     0.0  \n",
            "1                         0.00                         0.000     0.0  \n",
            "2                         0.33                         0.429     0.0  \n",
            "3                         0.00                         0.000     0.0  \n",
            "4                         0.00                         0.000     0.0  \n"
          ]
        }
      ],
      "source": [
        "df = pd.read_csv('BNBUSD_1m_Binance.csv')\n",
        "print(df.head())"
      ]
    },
    {
      "cell_type": "code",
      "execution_count": 3,
      "metadata": {
        "id": "OYpb5kI-xNdr"
      },
      "outputs": [],
      "source": [
        "df = df.drop(columns=['Open time','Close time'])"
      ]
    },
    {
      "cell_type": "code",
      "execution_count": 4,
      "metadata": {
        "colab": {
          "base_uri": "https://localhost:8080/"
        },
        "id": "RBtOvmnLz4M-",
        "outputId": "e6722b57-16c4-4ab1-950b-baf249c4fad8"
      },
      "outputs": [
        {
          "name": "stdout",
          "output_type": "stream",
          "text": [
            "   Open  High  Low  Close  Volume  Quote asset volume  Number of trades  \\\n",
            "0   1.5  1.50  1.5   1.50   10.83              16.245               2.0   \n",
            "1   1.3  1.30  1.3   1.30    1.00               1.300               1.0   \n",
            "2   1.3  1.30  0.5   0.50   19.00              24.356               6.0   \n",
            "3   0.5  0.61  0.5   0.61  253.00             151.660              17.0   \n",
            "4   1.1  1.10  1.1   1.10   85.00              93.500               1.0   \n",
            "\n",
            "   Taker buy base asset volume  Taker buy quote asset volume  Ignore  \n",
            "0                        10.83                        16.245     0.0  \n",
            "1                         0.00                         0.000     0.0  \n",
            "2                         0.33                         0.429     0.0  \n",
            "3                         0.00                         0.000     0.0  \n",
            "4                         0.00                         0.000     0.0  \n"
          ]
        }
      ],
      "source": [
        "print(df.head())"
      ]
    },
    {
      "cell_type": "code",
      "execution_count": 5,
      "metadata": {
        "id": "6LD0xAQgz7-e"
      },
      "outputs": [],
      "source": [
        "df = df.drop(columns=['Ignore','Taker buy base asset volume','Taker buy quote asset volume'])"
      ]
    },
    {
      "cell_type": "code",
      "execution_count": 6,
      "metadata": {
        "colab": {
          "base_uri": "https://localhost:8080/"
        },
        "id": "WsiPELFP16EA",
        "outputId": "3f0f4fb2-b83a-4419-9513-dbf8acec2758"
      },
      "outputs": [
        {
          "name": "stdout",
          "output_type": "stream",
          "text": [
            "          Open    High     Low   Close  Volume  Quote asset volume  \\\n",
            "0       1.5000  1.5000  1.5000  1.5000   10.83           16.245000   \n",
            "1       1.3000  1.3000  1.3000  1.3000    1.00            1.300000   \n",
            "2       1.3000  1.3000  0.5000  0.5000   19.00           24.356000   \n",
            "3       0.5000  0.6100  0.5000  0.6100  253.00          151.660000   \n",
            "4       1.1000  1.1000  1.1000  1.1000   85.00           93.500000   \n",
            "...        ...     ...     ...     ...     ...                 ...   \n",
            "187461  9.0934  9.1149  9.0701  9.1100  614.62         5585.887417   \n",
            "187462  9.1005  9.1145  9.0740  9.0740  754.35         6868.775742   \n",
            "187463  9.0748  9.1243  9.0745  9.1041  457.06         4162.123352   \n",
            "187464  9.1063  9.1100  9.1041  9.1042  336.45         3063.326275   \n",
            "187465  9.1000     NaN     NaN     NaN     NaN                 NaN   \n",
            "\n",
            "        Number of trades  \n",
            "0                    2.0  \n",
            "1                    1.0  \n",
            "2                    6.0  \n",
            "3                   17.0  \n",
            "4                    1.0  \n",
            "...                  ...  \n",
            "187461              59.0  \n",
            "187462              32.0  \n",
            "187463              34.0  \n",
            "187464              18.0  \n",
            "187465               NaN  \n",
            "\n",
            "[187466 rows x 7 columns]\n"
          ]
        }
      ],
      "source": [
        "print(df)"
      ]
    },
    {
      "cell_type": "code",
      "execution_count": 7,
      "metadata": {
        "colab": {
          "base_uri": "https://localhost:8080/"
        },
        "id": "zVLEWHd15c2t",
        "outputId": "4969bf2a-0a96-4328-fa9b-c522976df222"
      },
      "outputs": [
        {
          "name": "stdout",
          "output_type": "stream",
          "text": [
            "   Open  High  Low  Close  Volume  Quote asset volume  Number of trades\n",
            "0   1.5  1.50  1.5   1.50   10.83              16.245               2.0\n",
            "1   1.3  1.30  1.3   1.30    1.00               1.300               1.0\n",
            "2   1.3  1.30  0.5   0.50   19.00              24.356               6.0\n",
            "3   0.5  0.61  0.5   0.61  253.00             151.660              17.0\n",
            "4   1.1  1.10  1.1   1.10   85.00              93.500               1.0\n"
          ]
        }
      ],
      "source": [
        "print(df.head())"
      ]
    },
    {
      "cell_type": "code",
      "execution_count": 29,
      "metadata": {
        "colab": {
          "base_uri": "https://localhost:8080/",
          "height": 591
        },
        "id": "Fnb8Vv3z5jgm",
        "outputId": "9e69c555-b424-4206-fe11-c70a93b986ad"
      },
      "outputs": [
        {
          "data": {
            "text/plain": [
              "<matplotlib.collections.PathCollection at 0x7f124e89f2b0>"
            ]
          },
          "execution_count": 29,
          "metadata": {},
          "output_type": "execute_result"
        },
        {
          "data": {
            "image/png": "[encoded data removed]",
            "text/plain": [
              "<Figure size 1000x600 with 1 Axes>"
            ]
          },
          "metadata": {},
          "output_type": "display_data"
        }
      ],
      "source": [
        "x = df[['Open']]\n",
        "y = df[['Close']]\n",
        "plt.figure(figsize=(10,6))\n",
        "plt.xlabel('Open')\n",
        "plt.ylabel('Close')\n",
        "plt.title('Predicting close with open')\n",
        "plt.scatter(x,y, marker='o', color='g')"
      ]
    },
    {
      "cell_type": "code",
      "execution_count": 9,
      "metadata": {
        "id": "pyUAp2N4_NsI"
      },
      "outputs": [],
      "source": [
        "df_sampled = df.sample(frac=0.1, random_state=42)\n",
        "\n",
        "\n",
        "df_sampled.to_csv('reduced_file.csv', index=False)"
      ]
    },
    {
      "cell_type": "code",
      "execution_count": 10,
      "metadata": {
        "colab": {
          "base_uri": "https://localhost:8080/"
        },
        "id": "y3Xdp_TsC15q",
        "outputId": "d1d92c3e-25a5-45b5-bab6-5d7029f17ed8"
      },
      "outputs": [
        {
          "name": "stdout",
          "output_type": "stream",
          "text": [
            "<class 'pandas.core.frame.DataFrame'>\n",
            "RangeIndex: 18747 entries, 0 to 18746\n",
            "Data columns (total 7 columns):\n",
            " #   Column              Non-Null Count  Dtype  \n",
            "---  ------              --------------  -----  \n",
            " 0   Open                18747 non-null  float64\n",
            " 1   High                18747 non-null  float64\n",
            " 2   Low                 18747 non-null  float64\n",
            " 3   Close               18747 non-null  float64\n",
            " 4   Volume              18747 non-null  float64\n",
            " 5   Quote asset volume  18747 non-null  float64\n",
            " 6   Number of trades    18747 non-null  float64\n",
            "dtypes: float64(7)\n",
            "memory usage: 1.0 MB\n",
            "None\n"
          ]
        }
      ],
      "source": [
        "df = pd.read_csv('reduced_file.csv')\n",
        "print(df.info())"
      ]
    },
    {
      "cell_type": "code",
      "execution_count": 11,
      "metadata": {
        "colab": {
          "base_uri": "https://localhost:8080/",
          "height": 582
        },
        "id": "wX_nepD2DDPF",
        "outputId": "61a8581b-d6f4-4ca9-ce7f-2edad946c0e3"
      },
      "outputs": [
        {
          "data": {
            "text/plain": [
              "<matplotlib.collections.PathCollection at 0x7f124fc157b0>"
            ]
          },
          "execution_count": 11,
          "metadata": {},
          "output_type": "execute_result"
        },
        {
          "data": {
            "image/png": "[encoded data removed]",
            "text/plain": [
              "<Figure size 1000x600 with 1 Axes>"
            ]
          },
          "metadata": {},
          "output_type": "display_data"
        }
      ],
      "source": [
        "x = df[['Open']]\n",
        "y = df[['Close']]\n",
        "plt.figure(figsize=(10,6))\n",
        "plt.xlabel('Open')\n",
        "plt.ylabel('Close')\n",
        "plt.title('Predicting close with open')\n",
        "plt.scatter(x,y, marker='o', color='g')"
      ]
    },
    {
      "cell_type": "code",
      "execution_count": 12,
      "metadata": {
        "colab": {
          "base_uri": "https://localhost:8080/",
          "height": 568
        },
        "id": "guBPlAv5DPOK",
        "outputId": "efcaa2b5-c95b-4e8f-b068-3188903aa974"
      },
      "outputs": [
        {
          "data": {
            "text/plain": [
              "<matplotlib.legend.Legend at 0x7f124dafec20>"
            ]
          },
          "execution_count": 12,
          "metadata": {},
          "output_type": "execute_result"
        },
        {
          "data": {
            "image/png": "[encoded data removed]",
            "text/plain": [
              "<Figure size 1000x600 with 1 Axes>"
            ]
          },
          "metadata": {},
          "output_type": "display_data"
        }
      ],
      "source": [
        "from scipy import stats\n",
        "sns.set(color_codes=True)\n",
        "\n",
        "slope, intercept, r_value, p_value, std_err = stats.linregress(df['Open'],df['Close'])\n",
        "\n",
        "f = plt.figure(figsize=(10,6))\n",
        "data = df[['Open','Close']]\n",
        "ax = sns.regplot(x='Open', y='Close', data=data,\n",
        "                 scatter_kws={\"color\": \"g\"},\n",
        "                line_kws={'color': 'r', 'label':\"y={0:.1f}x+{1:.1f}\".format(slope,intercept)})\n",
        "ax.legend()"
      ]
    },
    {
      "cell_type": "code",
      "execution_count": 13,
      "metadata": {
        "colab": {
          "base_uri": "https://localhost:8080/"
        },
        "id": "8QSlLgZFET2q",
        "outputId": "e94ab123-d7bd-4886-e25b-a1c6070edeb6"
      },
      "outputs": [
        {
          "name": "stdout",
          "output_type": "stream",
          "text": [
            "0.9996798606382374 0.0017027231781092667\n"
          ]
        }
      ],
      "source": [
        "print(slope, intercept)"
      ]
    },
    {
      "cell_type": "code",
      "execution_count": 14,
      "metadata": {
        "colab": {
          "base_uri": "https://localhost:8080/"
        },
        "id": "KAUNU8z_GglM",
        "outputId": "de029b0d-9c99-41e1-d473-1457e7131e3c"
      },
      "outputs": [
        {
          "name": "stdout",
          "output_type": "stream",
          "text": [
            "5.923960472727761e-05\n"
          ]
        }
      ],
      "source": [
        "print(std_err)"
      ]
    },
    {
      "cell_type": "code",
      "execution_count": 15,
      "metadata": {
        "id": "Py2fjPqcGm-z"
      },
      "outputs": [],
      "source": [
        "X = df['Open'].values\n",
        "Y = df['Close'].values"
      ]
    },
    {
      "cell_type": "code",
      "execution_count": 16,
      "metadata": {
        "id": "Q8otLeOpPvwM"
      },
      "outputs": [],
      "source": [
        "mean_X = np.mean(X)\n",
        "mean_Y = np.mean(Y)"
      ]
    },
    {
      "cell_type": "code",
      "execution_count": 17,
      "metadata": {
        "colab": {
          "base_uri": "https://localhost:8080/"
        },
        "id": "4X4kbvHWP6C7",
        "outputId": "afa114ac-3b7c-4296-ba01-fc983bf4cb61"
      },
      "outputs": [
        {
          "name": "stdout",
          "output_type": "stream",
          "text": [
            "Slope (m): 0.9996798606382375\n",
            "Intercept (b): 0.0017027231781092667\n"
          ]
        }
      ],
      "source": [
        "numerator = np.sum((X - mean_X) * (Y - mean_Y))\n",
        "denominator = np.sum((X - mean_X)**2)\n",
        "slope = numerator / denominator\n",
        "intercept = mean_Y - slope * mean_X\n",
        "\n",
        "print(f\"Slope (m): {slope}\")\n",
        "print(f\"Intercept (b): {intercept}\")"
      ]
    },
    {
      "cell_type": "code",
      "execution_count": 18,
      "metadata": {
        "id": "TUxnTbNIQBkc"
      },
      "outputs": [],
      "source": [
        "#multi dimensional linear regression where open and close are dependent variable and high is independent variable using numpy and pandas"
      ]
    },
    {
      "cell_type": "code",
      "execution_count": 19,
      "metadata": {
        "id": "HcqErOL1UlDo"
      },
      "outputs": [],
      "source": [
        "X = df[['Open', 'Close']].values\n",
        "Y = df['High'].values"
      ]
    },
    {
      "cell_type": "code",
      "execution_count": 20,
      "metadata": {
        "colab": {
          "base_uri": "https://localhost:8080/"
        },
        "id": "vW4SU967VA61",
        "outputId": "b6e2db1d-46b3-45cf-e31e-37bbe7906ca4"
      },
      "outputs": [
        {
          "name": "stdout",
          "output_type": "stream",
          "text": [
            "Coefficients: [-0.00633921  0.51513964  0.48772896]\n",
            "Intercept (b0): -0.006339209427881674\n",
            "Slopes (b1, b2, ...): [0.51513964 0.48772896]\n",
            "\n",
            "Actual vs Predicted:\n",
            "        Actual  Predicted\n",
            "0       8.6171   8.619874\n",
            "1       1.8890   1.888080\n",
            "2       9.2435   9.257336\n",
            "3       8.7900   8.803676\n",
            "4       8.5500   8.508821\n",
            "...        ...        ...\n",
            "18742  21.1199  21.066894\n",
            "18743   2.1506   2.150430\n",
            "18744   5.3200   5.328922\n",
            "18745   9.5254   9.541009\n",
            "18746   5.5002   5.506273\n",
            "\n",
            "[18747 rows x 2 columns]\n"
          ]
        }
      ],
      "source": [
        "X = np.hstack((np.ones((X.shape[0], 1)), X))\n",
        "\n",
        "coefficients = np.linalg.inv(X.T @ X) @ X.T @ Y\n",
        "\n",
        "print(f\"Coefficients: {coefficients}\")\n",
        "\n",
        "intercept = coefficients[0]\n",
        "slopes = coefficients[1:]\n",
        "\n",
        "print(f\"Intercept (b0): {intercept}\")\n",
        "print(f\"Slopes (b1, b2, ...): {slopes}\")\n",
        "\n",
        "Y_pred = X @ coefficients\n",
        "\n",
        "print(\"\\nActual vs Predicted:\")\n",
        "print(pd.DataFrame({'Actual': Y, 'Predicted': Y_pred}))"
      ]
    },
    {
      "cell_type": "code",
      "execution_count": 21,
      "metadata": {
        "id": "nWn9wSH-aGYL"
      },
      "outputs": [],
      "source": [
        "#linear regression using gradient descent"
      ]
    },
    {
      "cell_type": "code",
      "execution_count": 22,
      "metadata": {
        "colab": {
          "base_uri": "https://localhost:8080/"
        },
        "id": "mlpta6qJkVYS",
        "outputId": "f21d4aab-2071-4bf2-edbf-ba92f31b43c6"
      },
      "outputs": [
        {
          "name": "stdout",
          "output_type": "stream",
          "text": [
            "Coefficients: [[5.1235473 ]\n",
            " [3.29707129]]\n"
          ]
        }
      ],
      "source": [
        "\n",
        "X = df[['Open']].values\n",
        "Y = df['High'].values\n",
        "\n",
        "from sklearn.preprocessing import StandardScaler\n",
        "scaler = StandardScaler()\n",
        "X_scaled = scaler.fit_transform(X)\n",
        "\n",
        "\n",
        "X_scaled = np.hstack((np.ones((X_scaled.shape[0], 1)), X_scaled))\n",
        "\n",
        "\n",
        "Y = Y.reshape(-1, 1)\n",
        "\n",
        "m = X_scaled.shape[0]\n",
        "n = X_scaled.shape[1]\n",
        "\n",
        "\n",
        "learning_rate = 0.001\n",
        "iterations = 1000\n",
        "\n",
        "theta = np.zeros((n, 1))\n",
        "\n",
        "for _ in range(iterations):\n",
        "    Y_pred = X_scaled @ theta\n",
        "\n",
        "    error = Y_pred - Y\n",
        "\n",
        "    error = error.reshape(-1, 1)\n",
        "\n",
        "    gradient = (1 / m) * X_scaled.T @ error\n",
        "\n",
        "    theta -= learning_rate * gradient\n",
        "\n",
        "print(\"Coefficients:\", theta)\n"
      ]
    },
    {
      "cell_type": "code",
      "execution_count": 23,
      "metadata": {
        "colab": {
          "base_uri": "https://localhost:8080/"
        },
        "id": "KD_YS61ToO3p",
        "outputId": "32affbaf-7170-484a-84f9-053b9a10be81"
      },
      "outputs": [
        {
          "name": "stdout",
          "output_type": "stream",
          "text": [
            "Intercept (b0): -0.005507142695098932\n",
            "Slopes (b1, b2, ...): [1.00271226]\n",
            "\n",
            "Actual vs Predicted:\n",
            "        Actual  Predicted\n",
            "0       8.6171   8.613607\n",
            "1       1.8890   1.888616\n",
            "2       9.2435   9.263064\n",
            "3       8.7900   8.798307\n",
            "4       8.5500   8.528076\n",
            "...        ...        ...\n",
            "18742  21.1199  21.171676\n",
            "18743   2.1506   2.150926\n",
            "18744   5.3200   5.328922\n",
            "18745   9.5254   9.545327\n",
            "18746   5.5002   5.509611\n",
            "\n",
            "[18747 rows x 2 columns]\n"
          ]
        }
      ],
      "source": [
        "#ridge regression\n",
        "X = df[['Open']].values\n",
        "y = df['High'].values\n",
        "\n",
        "X = np.hstack([np.ones((X.shape[0], 1)), X])\n",
        "lambda_ = 0.1\n",
        "\n",
        "m, n = X.shape\n",
        "I = np.eye(n)\n",
        "I[0, 0] = 0\n",
        "\n",
        "beta = np.linalg.inv(X.T @ X + lambda_ * I) @ X.T @ y\n",
        "\n",
        "intercept = beta[0]\n",
        "slopes = beta[1:]\n",
        "\n",
        "print(f\"Intercept (b0): {intercept}\")\n",
        "print(f\"Slopes (b1, b2, ...): {slopes}\")\n",
        "\n",
        "y_pred = X @ beta\n",
        "\n",
        "print(\"\\nActual vs Predicted:\")\n",
        "print(pd.DataFrame({'Actual': y, 'Predicted': y_pred}))\n"
      ]
    },
    {
      "cell_type": "code",
      "execution_count": 24,
      "metadata": {
        "colab": {
          "base_uri": "https://localhost:8080/"
        },
        "id": "C2utebBo2VTS",
        "outputId": "4090af16-a8f7-4eab-d52b-068949c0ed9b"
      },
      "outputs": [
        {
          "name": "stdout",
          "output_type": "stream",
          "text": [
            "Coefficients: [-0.00550715  1.00271227]\n"
          ]
        }
      ],
      "source": [
        "#lasso regression\n",
        "X = df[['Open']].values\n",
        "y = df['High'].values\n",
        "\n",
        "X = np.hstack([np.ones((X.shape[0], 1)), X])\n",
        "\n",
        "lambda_ = 0.1\n",
        "num_iterations = 1000\n",
        "learning_rate = 0.01\n",
        "\n",
        "m, n = X.shape\n",
        "coefficients = np.zeros(n)\n",
        "\n",
        "for _ in range(num_iterations):\n",
        "    for j in range(n):\n",
        "        residual = y - (X @ coefficients - X[:, j] * coefficients[j])\n",
        "\n",
        "        rho = np.sum(X[:, j] * residual)\n",
        "        if j == 0:\n",
        "            coefficients[j] = rho / np.sum(X[:, j] ** 2)\n",
        "        else:\n",
        "            if rho < -lambda_:\n",
        "                coefficients[j] = (rho + lambda_) / np.sum(X[:, j] ** 2)\n",
        "            elif rho > lambda_:\n",
        "                coefficients[j] = (rho - lambda_) / np.sum(X[:, j] ** 2)\n",
        "            else:\n",
        "                coefficients[j] = 0\n",
        "\n",
        "print(f\"Coefficients: {coefficients}\")\n"
      ]
    },
    {
      "cell_type": "code",
      "execution_count": 25,
      "metadata": {
        "id": "NjnoJhoB87ZI"
      },
      "outputs": [],
      "source": [
        "#elastic net"
      ]
    },
    {
      "cell_type": "code",
      "execution_count": null,
      "metadata": {
        "colab": {
          "base_uri": "https://localhost:8080/"
        },
        "id": "xcI8osOl9pp9",
        "outputId": "170352ad-b221-47dc-e9b8-aa25aaa94a0e"
      },
      "outputs": [
        {
          "name": "stdout",
          "output_type": "stream",
          "text": [
            "Coefficients: [7.36622391 0.        ]\n"
          ]
        }
      ],
      "source": [
        "X = df[['Open']].values  \n",
        "y = df['High'].values   \n",
        "\n",
        "X = np.hstack([np.ones((X.shape[0], 1)), X])\n",
        "\n",
        "lambda1 = 0.1  \n",
        "lambda2 = 0.1  \n",
        "num_iterations = 1000  \n",
        "learning_rate = 0.01  \n",
        "\n",
        "m, n = X.shape\n",
        "coefficients = np.zeros(n)\n",
        "\n",
        "for _ in range(num_iterations):\n",
        "    predictions = X @ coefficients\n",
        "    residuals = predictions - y\n",
        "    gradient = (1 / m) * (X.T @ residuals) + lambda2 * coefficients\n",
        "\n",
        "    for j in range(1, n): \n",
        "        if coefficients[j] > learning_rate * lambda1:\n",
        "            gradient[j] -= learning_rate * lambda1\n",
        "        elif coefficients[j] < -learning_rate * lambda1:\n",
        "            gradient[j] += learning_rate * lambda1\n",
        "        else:\n",
        "            gradient[j] = 0\n",
        "\n",
        "    coefficients -= learning_rate * gradient\n",
        "\n",
        "print(f\"Coefficients: {coefficients}\")\n"
      ]
    },
    {
      "cell_type": "code",
      "execution_count": 1,
      "metadata": {
        "id": "90Eki9-e9v4u"
      },
      "outputs": [],
      "source": [
        "#gradient descent in. multidimensional feature"
      ]
    },
    {
      "cell_type": "code",
      "execution_count": null,
      "metadata": {
        "colab": {
          "base_uri": "https://localhost:8080/",
          "height": 216
        },
        "id": "2c6eOHMNc35-",
        "outputId": "b9a9296c-9ff8-43c2-bbed-15de33a5b761"
      },
      "outputs": [
        {
          "ename": "NameError",
          "evalue": "name 'df' is not defined",
          "output_type": "error",
          "traceback": [
            "\u001b[0;31m---------------------------------------------------------------------------\u001b[0m",
            "\u001b[0;31mNameError\u001b[0m                                 Traceback (most recent call last)",
            "\u001b[0;32m<ipython-input-2-fefe1ed8472a>\u001b[0m in \u001b[0;36m<cell line: 5>\u001b[0;34m()\u001b[0m\n\u001b[1;32m      3\u001b[0m \u001b[0;34m\u001b[0m\u001b[0m\n\u001b[1;32m      4\u001b[0m \u001b[0;31m# Assuming df is your DataFrame and contains multiple features\u001b[0m\u001b[0;34m\u001b[0m\u001b[0;34m\u001b[0m\u001b[0m\n\u001b[0;32m----> 5\u001b[0;31m \u001b[0mX\u001b[0m \u001b[0;34m=\u001b[0m \u001b[0mdf\u001b[0m\u001b[0;34m[\u001b[0m\u001b[0;34m[\u001b[0m\u001b[0;34m'Open'\u001b[0m\u001b[0;34m,\u001b[0m \u001b[0;34m'Low'\u001b[0m\u001b[0;34m,\u001b[0m \u001b[0;34m'Close'\u001b[0m\u001b[0;34m]\u001b[0m\u001b[0;34m]\u001b[0m\u001b[0;34m.\u001b[0m\u001b[0mvalues\u001b[0m  \u001b[0;31m# Use multiple features\u001b[0m\u001b[0;34m\u001b[0m\u001b[0;34m\u001b[0m\u001b[0m\n\u001b[0m\u001b[1;32m      6\u001b[0m \u001b[0mY\u001b[0m \u001b[0;34m=\u001b[0m \u001b[0mdf\u001b[0m\u001b[0;34m[\u001b[0m\u001b[0;34m'High'\u001b[0m\u001b[0;34m]\u001b[0m\u001b[0;34m.\u001b[0m\u001b[0mvalues\u001b[0m\u001b[0;34m\u001b[0m\u001b[0;34m\u001b[0m\u001b[0m\n\u001b[1;32m      7\u001b[0m \u001b[0;34m\u001b[0m\u001b[0m\n",
            "\u001b[0;31mNameError\u001b[0m: name 'df' is not defined"
          ]
        }
      ],
      "source": [
        "import numpy as np\n",
        "from sklearn.preprocessing import StandardScaler\n",
        "\n",
        "X = df[['Open', 'Low', 'Close']].values  \n",
        "Y = df['High'].values\n",
        "\n",
        "scaler = StandardScaler()\n",
        "X_scaled = scaler.fit_transform(X)\n",
        "X_scaled = np.hstack((np.ones((X_scaled.shape[0], 1)), X_scaled))\n",
        "Y = Y.reshape(-1, 1)\n",
        "m = X_scaled.shape[0]  \n",
        "n = X_scaled.shape[1]  \n",
        "learning_rate = 0.001\n",
        "iterations = 1000\n",
        "theta = np.zeros((n, 1))  \n",
        "\n",
        "for _ in range(iterations):\n",
        "    Y_pred = X_scaled @ theta\n",
        "    error = Y_pred - Y\n",
        "    gradient = (1 / m) * X_scaled.T @ error\n",
        "    theta -= learning_rate * gradient\n",
        "\n",
        "print(\"Coefficients:\", theta)\n"
      ]
    },
    {
      "cell_type": "code",
      "execution_count": null,
      "metadata": {
        "id": "Rj3U7n_8c6Cg"
      },
      "outputs": [],
      "source": []
    }
  ],
  "metadata": {
    "colab": {
      "provenance": []
    },
    "kernelspec": {
      "display_name": "Python 3",
      "name": "python3"
    },
    "language_info": {
      "name": "python"
    }
  },
  "nbformat": 4,
  "nbformat_minor": 0
}
