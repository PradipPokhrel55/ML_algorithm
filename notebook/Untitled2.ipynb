{
  "cells": [
    {
      "cell_type": "code",
      "execution_count": null,
      "metadata": {
        "colab": {
          "base_uri": "https://localhost:8080/"
        },
        "id": "DWGuBbkJEW5f",
        "outputId": "36168018-141b-469a-a36c-dddad08fa2fb"
      },
      "outputs": [
        {
          "name": "stdout",
          "output_type": "stream",
          "text": [
            "Requirement already satisfied: torch in /usr/local/lib/python3.10/dist-packages (2.5.1+cu121)\n",
            "Requirement already satisfied: torchvision in /usr/local/lib/python3.10/dist-packages (0.20.1+cu121)\n",
            "Requirement already satisfied: filelock in /usr/local/lib/python3.10/dist-packages (from torch) (3.16.1)\n",
            "Requirement already satisfied: typing-extensions>=4.8.0 in /usr/local/lib/python3.10/dist-packages (from torch) (4.12.2)\n",
            "Requirement already satisfied: networkx in /usr/local/lib/python3.10/dist-packages (from torch) (3.4.2)\n",
            "Requirement already satisfied: jinja2 in /usr/local/lib/python3.10/dist-packages (from torch) (3.1.4)\n",
            "Requirement already satisfied: fsspec in /usr/local/lib/python3.10/dist-packages (from torch) (2024.10.0)\n",
            "Requirement already satisfied: sympy==1.13.1 in /usr/local/lib/python3.10/dist-packages (from torch) (1.13.1)\n",
            "Requirement already satisfied: mpmath<1.4,>=1.1.0 in /usr/local/lib/python3.10/dist-packages (from sympy==1.13.1->torch) (1.3.0)\n",
            "Requirement already satisfied: numpy in /usr/local/lib/python3.10/dist-packages (from torchvision) (1.26.4)\n",
            "Requirement already satisfied: pillow!=8.3.*,>=5.3.0 in /usr/local/lib/python3.10/dist-packages (from torchvision) (11.0.0)\n",
            "Requirement already satisfied: MarkupSafe>=2.0 in /usr/local/lib/python3.10/dist-packages (from jinja2->torch) (3.0.2)\n"
          ]
        }
      ],
      "source": [
        "!pip install torch torchvision\n"
      ]
    },
    {
      "cell_type": "code",
      "execution_count": null,
      "metadata": {
        "colab": {
          "base_uri": "https://localhost:8080/"
        },
        "id": "M617m91yEiJH",
        "outputId": "cc513327-abb7-44c0-b393-cbbd89190995"
      },
      "outputs": [
        {
          "name": "stdout",
          "output_type": "stream",
          "text": [
            "tensor([1., 2., 3.])\n"
          ]
        }
      ],
      "source": [
        "import torch\n",
        "import numpy as np\n",
        "import pandas as pd\n",
        "import matplotlib.pyplot as plt\n",
        "\n",
        "tensor = torch.tensor([1, 2, 3], dtype=torch.float32)\n",
        "print(tensor)\n"
      ]
    },
    {
      "cell_type": "code",
      "execution_count": 2,
      "metadata": {
        "colab": {
          "base_uri": "https://localhost:8080/"
        },
        "id": "Ntdf9VawGpls",
        "outputId": "944b7f50-0747-4671-d5da-0b7341fbe71d"
      },
      "outputs": [
        {
          "name": "stdout",
          "output_type": "stream",
          "text": [
            "tensor([3., 6., 9.])\n"
          ]
        }
      ],
      "source": [
        "float_32_tensor = torch.tensor([3.0,6.0,9.0],dtype=None,requires_grad=False)\n",
        "print(float_32_tensor)"
      ]
    },
    {
      "cell_type": "code",
      "execution_count": null,
      "metadata": {
        "colab": {
          "base_uri": "https://localhost:8080/"
        },
        "id": "DDRb-ucAHY7d",
        "outputId": "fa70d311-4182-43c2-a8a1-363650951d9a"
      },
      "outputs": [
        {
          "name": "stdout",
          "output_type": "stream",
          "text": [
            "Ones Tensor: \n",
            " tensor([[1, 1],\n",
            "        [1, 1]]) \n",
            "\n",
            "Random Tensor: \n",
            " tensor([[0.8656, 0.9469],\n",
            "        [0.6098, 0.3547]]) \n",
            "\n"
          ]
        }
      ],
      "source": [
        "data = [[1, 2],[3, 4]]\n",
        "x_data = torch.tensor(data)\n",
        "\n",
        "x_ones = torch.ones_like(x_data) \n",
        "print(f\"Ones Tensor: \\n {x_ones} \\n\")\n",
        "\n",
        "x_rand = torch.rand_like(x_data, dtype=torch.float) \n",
        "print(f\"Random Tensor: \\n {x_rand} \\n\")"
      ]
    },
    {
      "cell_type": "code",
      "execution_count": 4,
      "metadata": {
        "colab": {
          "base_uri": "https://localhost:8080/"
        },
        "id": "lyxOlwWqXnIk",
        "outputId": "82fe87a6-b160-493e-e019-b06298b19e19"
      },
      "outputs": [
        {
          "name": "stdout",
          "output_type": "stream",
          "text": [
            "tensor([[0.3802, 0.4935, 0.2281],\n",
            "        [0.5534, 0.6164, 0.0090]])\n"
          ]
        }
      ],
      "source": [
        "rand_tensor = torch.rand((2,3))\n",
        "print(rand_tensor)"
      ]
    },
    {
      "cell_type": "code",
      "execution_count": 5,
      "metadata": {
        "colab": {
          "base_uri": "https://localhost:8080/"
        },
        "id": "46YDriYeX_nP",
        "outputId": "b144ea75-91c7-48e8-da7e-d45912bb8beb"
      },
      "outputs": [
        {
          "name": "stdout",
          "output_type": "stream",
          "text": [
            "First row: tensor([1., 1., 1., 1.])\n",
            "First column: tensor([1., 1., 1., 1.])\n",
            "Last column: tensor([1., 1., 1., 1.])\n",
            "tensor([[1., 0., 1., 1.],\n",
            "        [1., 0., 1., 1.],\n",
            "        [1., 0., 1., 1.],\n",
            "        [1., 0., 1., 1.]])\n",
            "tensor([[1., 0., 1., 1., 1., 0., 1., 1., 1., 0., 1., 1.],\n",
            "        [1., 0., 1., 1., 1., 0., 1., 1., 1., 0., 1., 1.],\n",
            "        [1., 0., 1., 1., 1., 0., 1., 1., 1., 0., 1., 1.],\n",
            "        [1., 0., 1., 1., 1., 0., 1., 1., 1., 0., 1., 1.]])\n"
          ]
        }
      ],
      "source": [
        "tensor = torch.ones(4, 4)\n",
        "print(f\"First row: {tensor[0]}\")\n",
        "print(f\"First column: {tensor[:, 0]}\")\n",
        "print(f\"Last column: {tensor[..., -1]}\")\n",
        "tensor[:,1] = 0\n",
        "print(tensor)\n",
        "t1 = torch.cat([tensor, tensor, tensor], dim=1)\n",
        "print(t1)"
      ]
    },
    {
      "cell_type": "code",
      "execution_count": null,
      "metadata": {
        "colab": {
          "base_uri": "https://localhost:8080/"
        },
        "id": "gP24ECfbY--i",
        "outputId": "6fca5e50-d530-459d-90d5-22f5890aca2f"
      },
      "outputs": [
        {
          "data": {
            "text/plain": [
              "tensor([[1., 0., 1., 1.],\n",
              "        [1., 0., 1., 1.],\n",
              "        [1., 0., 1., 1.],\n",
              "        [1., 0., 1., 1.]])"
            ]
          },
          "execution_count": 6,
          "metadata": {},
          "output_type": "execute_result"
        }
      ],
      "source": [
        "y1 = tensor @ tensor.T\n",
        "y2 = tensor.matmul(tensor.T)\n",
        "\n",
        "y3 = torch.rand_like(y1)\n",
        "torch.matmul(tensor, tensor.T, out=y3)\n",
        "\n",
        "z1 = tensor * tensor\n",
        "z2 = tensor.mul(tensor)\n",
        "\n",
        "z3 = torch.rand_like(tensor)\n",
        "torch.mul(tensor, tensor, out=z3)"
      ]
    },
    {
      "cell_type": "code",
      "execution_count": null,
      "metadata": {
        "colab": {
          "base_uri": "https://localhost:8080/"
        },
        "id": "mbGn_B2veGFL",
        "outputId": "53cd737d-440d-4f46-ca04-e4f6b069f69d"
      },
      "outputs": [
        {
          "name": "stdout",
          "output_type": "stream",
          "text": [
            "Original Tensor:\n",
            " tensor([[1, 2, 3],\n",
            "        [4, 5, 6]])\n",
            "Reshaped Tensor:\n",
            " tensor([[1, 2],\n",
            "        [3, 4],\n",
            "        [5, 6]])\n"
          ]
        }
      ],
      "source": [
        "tensor = torch.tensor([[1, 2, 3], [4, 5, 6]])\n",
        "\n",
        "reshaped = tensor.reshape(3, 2)\n",
        "\n",
        "print(\"Original Tensor:\\n\", tensor)\n",
        "print(\"Reshaped Tensor:\\n\", reshaped)\n"
      ]
    },
    {
      "cell_type": "code",
      "execution_count": null,
      "metadata": {
        "colab": {
          "base_uri": "https://localhost:8080/"
        },
        "id": "wP0Zcs26buRZ",
        "outputId": "00ba8fe1-2972-4a8f-a380-b622765f87cd"
      },
      "outputs": [
        {
          "name": "stdout",
          "output_type": "stream",
          "text": [
            "Stacked Tensor:\n",
            " tensor([[1, 2, 3],\n",
            "        [4, 5, 6]])\n",
            "Stacked Along Dimension 1:\n",
            " tensor([[1, 4],\n",
            "        [2, 5],\n",
            "        [3, 6]])\n"
          ]
        }
      ],
      "source": [
        "tensor1 = torch.tensor([1, 2, 3])\n",
        "tensor2 = torch.tensor([4, 5, 6])\n",
        "\n",
        "stacked = torch.stack((tensor1, tensor2))\n",
        "\n",
        "print(\"Stacked Tensor:\\n\", stacked)\n",
        "\n",
        "stacked_dim1 = torch.stack((tensor1, tensor2), dim=1)\n",
        "print(\"Stacked Along Dimension 1:\\n\", stacked_dim1)\n"
      ]
    },
    {
      "cell_type": "code",
      "execution_count": null,
      "metadata": {
        "colab": {
          "base_uri": "https://localhost:8080/"
        },
        "id": "kE_man7ldAW2",
        "outputId": "f5bbfa71-bd00-4d7a-d0c6-e0a82d2471c0"
      },
      "outputs": [
        {
          "name": "stdout",
          "output_type": "stream",
          "text": [
            "Original Tensor Shape: torch.Size([1, 1, 3])\n",
            "Squeezed Tensor Shape: torch.Size([3])\n",
            "Squeezed Tensor: tensor([1, 2, 3])\n"
          ]
        }
      ],
      "source": [
        "tensor = torch.tensor([[[1, 2, 3]]])  \n",
        "\n",
        "squeezed = torch.squeeze(tensor)  \n",
        "\n",
        "print(\"Original Tensor Shape:\", tensor.shape)\n",
        "print(\"Squeezed Tensor Shape:\", squeezed.shape)\n",
        "print(\"Squeezed Tensor:\", squeezed)\n"
      ]
    },
    {
      "cell_type": "code",
      "execution_count": null,
      "metadata": {
        "colab": {
          "base_uri": "https://localhost:8080/"
        },
        "id": "xJvFs3lIejCu",
        "outputId": "2a6663c1-ba63-46ae-d8a3-fe6c6b183e24"
      },
      "outputs": [
        {
          "name": "stdout",
          "output_type": "stream",
          "text": [
            "Original Tensor Shape: torch.Size([3])\n",
            "Unsqueezed Tensor Shape: torch.Size([1, 3])\n",
            "Unsqueezed Tensor:\n",
            " tensor([[1, 2, 3]])\n",
            "Unsqueezed Along Dimension 1 Shape: torch.Size([3, 1])\n"
          ]
        }
      ],
      "source": [
        "tensor = torch.tensor([1, 2, 3])  \n",
        "\n",
        "unsqueezed = torch.unsqueeze(tensor, dim=0)  \n",
        "\n",
        "print(\"Original Tensor Shape:\", tensor.shape)\n",
        "print(\"Unsqueezed Tensor Shape:\", unsqueezed.shape)\n",
        "print(\"Unsqueezed Tensor:\\n\", unsqueezed)\n",
        "\n",
        "unsqueezed_dim1 = torch.unsqueeze(tensor, dim=1)  \n",
        "print(\"Unsqueezed Along Dimension 1 Shape:\", unsqueezed_dim1.shape)\n"
      ]
    },
    {
      "cell_type": "code",
      "execution_count": null,
      "metadata": {
        "colab": {
          "base_uri": "https://localhost:8080/"
        },
        "id": "anvVIitUenfT",
        "outputId": "b56ab1a0-eb2f-4227-a5ff-6d87d0b6c977"
      },
      "outputs": [
        {
          "name": "stdout",
          "output_type": "stream",
          "text": [
            "Original Tensor Shape: torch.Size([2, 3, 4])\n",
            "Permuted Tensor Shape: torch.Size([3, 2, 4])\n"
          ]
        }
      ],
      "source": [
        "tensor = torch.randn(2, 3, 4)\n",
        "\n",
        "permuted = tensor.permute(1, 0, 2)  \n",
        "\n",
        "print(\"Original Tensor Shape:\", tensor.shape)\n",
        "print(\"Permuted Tensor Shape:\", permuted.shape)\n"
      ]
    },
    {
      "cell_type": "code",
      "execution_count": null,
      "metadata": {
        "colab": {
          "base_uri": "https://localhost:8080/"
        },
        "id": "WtyeEUyIfJAc",
        "outputId": "e5b65357-b1eb-4517-ee88-29fcf34364de"
      },
      "outputs": [
        {
          "name": "stdout",
          "output_type": "stream",
          "text": [
            "Single Element: tensor(6)\n",
            "Row 1: tensor([4, 5, 6])\n",
            "Column 2: tensor([3, 6, 9])\n",
            "Sliced Tensor:\n",
            " tensor([[2, 3],\n",
            "        [5, 6]])\n"
          ]
        }
      ],
      "source": [
        "tensor = torch.tensor([[1, 2, 3], [4, 5, 6], [7, 8, 9]])\n",
        "\n",
        "element = tensor[1, 2]  \n",
        "print(\"Single Element:\", element)  \n",
        "\n",
        "row = tensor[1]  \n",
        "print(\"Row 1:\", row)  \n",
        "\n",
        "column = tensor[:, 2]  \n",
        "print(\"Column 2:\", column)  \n",
        "\n",
        "sub_tensor = tensor[0:2, 1:3]  \n",
        "print(\"Sliced Tensor:\\n\", sub_tensor)  \n"
      ]
    },
    {
      "cell_type": "code",
      "execution_count": null,
      "metadata": {
        "colab": {
          "base_uri": "https://localhost:8080/"
        },
        "id": "rI5S3mFLYIVP",
        "outputId": "65ef95d5-7385-4acc-f6d5-e1c173e94e86"
      },
      "outputs": [
        {
          "name": "stdout",
          "output_type": "stream",
          "text": [
            "Selected Rows:\n",
            " tensor([[1, 2, 3],\n",
            "        [7, 8, 9]])\n",
            "Selected Elements: tensor([4, 6])\n"
          ]
        }
      ],
      "source": [
        "rows = torch.tensor([0, 2])\n",
        "selected_rows = tensor[rows]\n",
        "print(\"Selected Rows:\\n\", selected_rows)  \n",
        "\n",
        "indices = torch.tensor([0, 2])\n",
        "selected_elements = tensor[1, indices]  \n",
        "print(\"Selected Elements:\", selected_elements)  \n"
      ]
    },
    {
      "cell_type": "code",
      "execution_count": null,
      "metadata": {
        "colab": {
          "base_uri": "https://localhost:8080/"
        },
        "id": "ZLSnvIJmYP5z",
        "outputId": "920ad43f-7406-48fe-b19c-793ba45a56bc"
      },
      "outputs": [
        {
          "name": "stdout",
          "output_type": "stream",
          "text": [
            "Boolean Mask:\n",
            " tensor([[False, False, False],\n",
            "        [False, False,  True],\n",
            "        [ True,  True,  True]])\n",
            "Filtered Elements: tensor([6, 7, 8, 9])\n"
          ]
        }
      ],
      "source": [
        "mask = tensor > 5\n",
        "print(\"Boolean Mask:\\n\", mask)  \n",
        "\n",
        "filtered = tensor[mask]\n",
        "print(\"Filtered Elements:\", filtered)  \n"
      ]
    },
    {
      "cell_type": "code",
      "execution_count": null,
      "metadata": {
        "colab": {
          "base_uri": "https://localhost:8080/"
        },
        "id": "lxUkwIVnYWJA",
        "outputId": "157db0f4-9dae-4b1c-de15-fcac619138d5"
      },
      "outputs": [
        {
          "name": "stdout",
          "output_type": "stream",
          "text": [
            "Fancy Indexed Elements: tensor([2, 9])\n"
          ]
        }
      ],
      "source": [
        "rows = torch.tensor([0, 2])\n",
        "cols = torch.tensor([1, 2])\n",
        "selected = tensor[rows, cols]  \n",
        "print(\"Fancy Indexed Elements:\", selected)  \n"
      ]
    },
    {
      "cell_type": "code",
      "execution_count": null,
      "metadata": {
        "colab": {
          "base_uri": "https://localhost:8080/"
        },
        "id": "n-gZoX1qYarG",
        "outputId": "634ea064-0582-464a-f0bd-2af159b097b6"
      },
      "outputs": [
        {
          "name": "stdout",
          "output_type": "stream",
          "text": [
            "Selected Rows:\n",
            " tensor([[1, 2, 3],\n",
            "        [7, 8, 9]])\n",
            "Selected Columns:\n",
            " tensor([[1, 3],\n",
            "        [4, 6],\n",
            "        [7, 9]])\n"
          ]
        }
      ],
      "source": [
        "selected_rows = torch.index_select(tensor, dim=0, index=torch.tensor([0, 2]))\n",
        "print(\"Selected Rows:\\n\", selected_rows)  \n",
        "\n",
        "selected_columns = torch.index_select(tensor, dim=1, index=torch.tensor([0, 2]))\n",
        "print(\"Selected Columns:\\n\", selected_columns)  \n"
      ]
    },
    {
      "cell_type": "code",
      "execution_count": null,
      "metadata": {
        "id": "JOJLCah4YfKY"
      },
      "outputs": [],
      "source": []
    }
  ],
  "metadata": {
    "accelerator": "GPU",
    "colab": {
      "gpuType": "T4",
      "provenance": []
    },
    "kernelspec": {
      "display_name": "Python 3",
      "name": "python3"
    },
    "language_info": {
      "name": "python"
    }
  },
  "nbformat": 4,
  "nbformat_minor": 0
}
