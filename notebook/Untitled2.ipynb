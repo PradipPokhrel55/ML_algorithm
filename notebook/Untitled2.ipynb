{
  "nbformat": 4,
  "nbformat_minor": 0,
  "metadata": {
    "colab": {
      "provenance": [],
      "gpuType": "T4"
    },
    "kernelspec": {
      "name": "python3",
      "display_name": "Python 3"
    },
    "language_info": {
      "name": "python"
    },
    "accelerator": "GPU"
  },
  "cells": [
    {
      "cell_type": "code",
      "execution_count": null,
      "metadata": {
        "colab": {
          "base_uri": "https://localhost:8080/"
        },
        "id": "DWGuBbkJEW5f",
        "outputId": "36168018-141b-469a-a36c-dddad08fa2fb"
      },
      "outputs": [
        {
          "output_type": "stream",
          "name": "stdout",
          "text": [
            "Requirement already satisfied: torch in /usr/local/lib/python3.10/dist-packages (2.5.1+cu121)\n",
            "Requirement already satisfied: torchvision in /usr/local/lib/python3.10/dist-packages (0.20.1+cu121)\n",
            "Requirement already satisfied: filelock in /usr/local/lib/python3.10/dist-packages (from torch) (3.16.1)\n",
            "Requirement already satisfied: typing-extensions>=4.8.0 in /usr/local/lib/python3.10/dist-packages (from torch) (4.12.2)\n",
            "Requirement already satisfied: networkx in /usr/local/lib/python3.10/dist-packages (from torch) (3.4.2)\n",
            "Requirement already satisfied: jinja2 in /usr/local/lib/python3.10/dist-packages (from torch) (3.1.4)\n",
            "Requirement already satisfied: fsspec in /usr/local/lib/python3.10/dist-packages (from torch) (2024.10.0)\n",
            "Requirement already satisfied: sympy==1.13.1 in /usr/local/lib/python3.10/dist-packages (from torch) (1.13.1)\n",
            "Requirement already satisfied: mpmath<1.4,>=1.1.0 in /usr/local/lib/python3.10/dist-packages (from sympy==1.13.1->torch) (1.3.0)\n",
            "Requirement already satisfied: numpy in /usr/local/lib/python3.10/dist-packages (from torchvision) (1.26.4)\n",
            "Requirement already satisfied: pillow!=8.3.*,>=5.3.0 in /usr/local/lib/python3.10/dist-packages (from torchvision) (11.0.0)\n",
            "Requirement already satisfied: MarkupSafe>=2.0 in /usr/local/lib/python3.10/dist-packages (from jinja2->torch) (3.0.2)\n"
          ]
        }
      ],
      "source": [
        "!pip install torch torchvision\n"
      ]
    },
    {
      "cell_type": "code",
      "source": [
        "import torch\n",
        "import numpy as np\n",
        "import pandas as pd\n",
        "import matplotlib.pyplot as plt\n",
        "\n",
        "# Create a PyTorch tensor\n",
        "tensor = torch.tensor([1, 2, 3], dtype=torch.float32)\n",
        "print(tensor)\n"
      ],
      "metadata": {
        "colab": {
          "base_uri": "https://localhost:8080/"
        },
        "id": "M617m91yEiJH",
        "outputId": "cc513327-abb7-44c0-b393-cbbd89190995"
      },
      "execution_count": 6,
      "outputs": [
        {
          "output_type": "stream",
          "name": "stdout",
          "text": [
            "tensor([1., 2., 3.])\n"
          ]
        }
      ]
    },
    {
      "cell_type": "code",
      "source": [
        "float_32_tensor = torch.tensor([3.0,6.0,9.0],dtype=None,requires_grad=False)\n",
        "print(float_32_tensor)"
      ],
      "metadata": {
        "colab": {
          "base_uri": "https://localhost:8080/"
        },
        "id": "Ntdf9VawGpls",
        "outputId": "944b7f50-0747-4671-d5da-0b7341fbe71d"
      },
      "execution_count": 2,
      "outputs": [
        {
          "output_type": "stream",
          "name": "stdout",
          "text": [
            "tensor([3., 6., 9.])\n"
          ]
        }
      ]
    },
    {
      "cell_type": "code",
      "source": [
        "data = [[1, 2],[3, 4]]\n",
        "x_data = torch.tensor(data)\n",
        "\n",
        "x_ones = torch.ones_like(x_data) # retains the properties of x_data\n",
        "print(f\"Ones Tensor: \\n {x_ones} \\n\")\n",
        "\n",
        "x_rand = torch.rand_like(x_data, dtype=torch.float) # overrides the datatype of x_data\n",
        "print(f\"Random Tensor: \\n {x_rand} \\n\")"
      ],
      "metadata": {
        "colab": {
          "base_uri": "https://localhost:8080/"
        },
        "id": "DDRb-ucAHY7d",
        "outputId": "fa70d311-4182-43c2-a8a1-363650951d9a"
      },
      "execution_count": 3,
      "outputs": [
        {
          "output_type": "stream",
          "name": "stdout",
          "text": [
            "Ones Tensor: \n",
            " tensor([[1, 1],\n",
            "        [1, 1]]) \n",
            "\n",
            "Random Tensor: \n",
            " tensor([[0.8656, 0.9469],\n",
            "        [0.6098, 0.3547]]) \n",
            "\n"
          ]
        }
      ]
    },
    {
      "cell_type": "code",
      "source": [
        "rand_tensor = torch.rand((2,3))\n",
        "print(rand_tensor)"
      ],
      "metadata": {
        "colab": {
          "base_uri": "https://localhost:8080/"
        },
        "id": "lyxOlwWqXnIk",
        "outputId": "82fe87a6-b160-493e-e019-b06298b19e19"
      },
      "execution_count": 4,
      "outputs": [
        {
          "output_type": "stream",
          "name": "stdout",
          "text": [
            "tensor([[0.3802, 0.4935, 0.2281],\n",
            "        [0.5534, 0.6164, 0.0090]])\n"
          ]
        }
      ]
    },
    {
      "cell_type": "code",
      "source": [
        "tensor = torch.ones(4, 4)\n",
        "print(f\"First row: {tensor[0]}\")\n",
        "print(f\"First column: {tensor[:, 0]}\")\n",
        "print(f\"Last column: {tensor[..., -1]}\")\n",
        "tensor[:,1] = 0\n",
        "print(tensor)\n",
        "t1 = torch.cat([tensor, tensor, tensor], dim=1)\n",
        "print(t1)"
      ],
      "metadata": {
        "colab": {
          "base_uri": "https://localhost:8080/"
        },
        "id": "46YDriYeX_nP",
        "outputId": "b144ea75-91c7-48e8-da7e-d45912bb8beb"
      },
      "execution_count": 5,
      "outputs": [
        {
          "output_type": "stream",
          "name": "stdout",
          "text": [
            "First row: tensor([1., 1., 1., 1.])\n",
            "First column: tensor([1., 1., 1., 1.])\n",
            "Last column: tensor([1., 1., 1., 1.])\n",
            "tensor([[1., 0., 1., 1.],\n",
            "        [1., 0., 1., 1.],\n",
            "        [1., 0., 1., 1.],\n",
            "        [1., 0., 1., 1.]])\n",
            "tensor([[1., 0., 1., 1., 1., 0., 1., 1., 1., 0., 1., 1.],\n",
            "        [1., 0., 1., 1., 1., 0., 1., 1., 1., 0., 1., 1.],\n",
            "        [1., 0., 1., 1., 1., 0., 1., 1., 1., 0., 1., 1.],\n",
            "        [1., 0., 1., 1., 1., 0., 1., 1., 1., 0., 1., 1.]])\n"
          ]
        }
      ]
    },
    {
      "cell_type": "code",
      "source": [
        "# This computes the matrix multiplication between two tensors. y1, y2, y3 will have the same value\n",
        "# ``tensor.T`` returns the transpose of a tensor\n",
        "y1 = tensor @ tensor.T\n",
        "y2 = tensor.matmul(tensor.T)\n",
        "\n",
        "y3 = torch.rand_like(y1)\n",
        "torch.matmul(tensor, tensor.T, out=y3)\n",
        "\n",
        "\n",
        "# This computes the element-wise product. z1, z2, z3 will have the same value\n",
        "z1 = tensor * tensor\n",
        "z2 = tensor.mul(tensor)\n",
        "\n",
        "z3 = torch.rand_like(tensor)\n",
        "torch.mul(tensor, tensor, out=z3)"
      ],
      "metadata": {
        "colab": {
          "base_uri": "https://localhost:8080/"
        },
        "id": "gP24ECfbY--i",
        "outputId": "6fca5e50-d530-459d-90d5-22f5890aca2f"
      },
      "execution_count": 6,
      "outputs": [
        {
          "output_type": "execute_result",
          "data": {
            "text/plain": [
              "tensor([[1., 0., 1., 1.],\n",
              "        [1., 0., 1., 1.],\n",
              "        [1., 0., 1., 1.],\n",
              "        [1., 0., 1., 1.]])"
            ]
          },
          "metadata": {},
          "execution_count": 6
        }
      ]
    },
    {
      "cell_type": "code",
      "source": [
        "\n",
        "\n",
        "# Create a tensor\n",
        "tensor = torch.tensor([[1, 2, 3], [4, 5, 6]])\n",
        "\n",
        "# Reshape it to a 3x2 tensor\n",
        "reshaped = tensor.reshape(3, 2)\n",
        "\n",
        "print(\"Original Tensor:\\n\", tensor)\n",
        "print(\"Reshaped Tensor:\\n\", reshaped)\n"
      ],
      "metadata": {
        "id": "mbGn_B2veGFL",
        "colab": {
          "base_uri": "https://localhost:8080/"
        },
        "outputId": "53cd737d-440d-4f46-ca04-e4f6b069f69d"
      },
      "execution_count": 3,
      "outputs": [
        {
          "output_type": "stream",
          "name": "stdout",
          "text": [
            "Original Tensor:\n",
            " tensor([[1, 2, 3],\n",
            "        [4, 5, 6]])\n",
            "Reshaped Tensor:\n",
            " tensor([[1, 2],\n",
            "        [3, 4],\n",
            "        [5, 6]])\n"
          ]
        }
      ]
    },
    {
      "cell_type": "code",
      "source": [
        "# Create two tensors\n",
        "tensor1 = torch.tensor([1, 2, 3])\n",
        "tensor2 = torch.tensor([4, 5, 6])\n",
        "\n",
        "# Stack along a new dimension (default: dim=0)\n",
        "stacked = torch.stack((tensor1, tensor2))\n",
        "\n",
        "print(\"Stacked Tensor:\\n\", stacked)\n",
        "\n",
        "# Stack along the second dimension (dim=1)\n",
        "stacked_dim1 = torch.stack((tensor1, tensor2), dim=1)\n",
        "print(\"Stacked Along Dimension 1:\\n\", stacked_dim1)\n"
      ],
      "metadata": {
        "colab": {
          "base_uri": "https://localhost:8080/"
        },
        "id": "wP0Zcs26buRZ",
        "outputId": "00ba8fe1-2972-4a8f-a380-b622765f87cd"
      },
      "execution_count": 4,
      "outputs": [
        {
          "output_type": "stream",
          "name": "stdout",
          "text": [
            "Stacked Tensor:\n",
            " tensor([[1, 2, 3],\n",
            "        [4, 5, 6]])\n",
            "Stacked Along Dimension 1:\n",
            " tensor([[1, 4],\n",
            "        [2, 5],\n",
            "        [3, 6]])\n"
          ]
        }
      ]
    },
    {
      "cell_type": "code",
      "source": [
        "\n",
        "\n",
        "# Create a tensor with singleton dimensions\n",
        "tensor = torch.tensor([[[1, 2, 3]]])  # Shape: (1, 1, 3)\n",
        "\n",
        "# Squeeze the tensor\n",
        "squeezed = torch.squeeze(tensor)  # Shape becomes (3,)\n",
        "\n",
        "print(\"Original Tensor Shape:\", tensor.shape)\n",
        "print(\"Squeezed Tensor Shape:\", squeezed.shape)\n",
        "print(\"Squeezed Tensor:\", squeezed)\n"
      ],
      "metadata": {
        "colab": {
          "base_uri": "https://localhost:8080/"
        },
        "id": "kE_man7ldAW2",
        "outputId": "f5bbfa71-bd00-4d7a-d0c6-e0a82d2471c0"
      },
      "execution_count": 6,
      "outputs": [
        {
          "output_type": "stream",
          "name": "stdout",
          "text": [
            "Original Tensor Shape: torch.Size([1, 1, 3])\n",
            "Squeezed Tensor Shape: torch.Size([3])\n",
            "Squeezed Tensor: tensor([1, 2, 3])\n"
          ]
        }
      ]
    },
    {
      "cell_type": "code",
      "source": [
        "# Create a tensor\n",
        "tensor = torch.tensor([1, 2, 3])  # Shape: (3,)\n",
        "\n",
        "# Unsqueeze to add a dimension at position 0\n",
        "unsqueezed = torch.unsqueeze(tensor, dim=0)  # Shape: (1, 3)\n",
        "\n",
        "print(\"Original Tensor Shape:\", tensor.shape)\n",
        "print(\"Unsqueezed Tensor Shape:\", unsqueezed.shape)\n",
        "print(\"Unsqueezed Tensor:\\n\", unsqueezed)\n",
        "\n",
        "# Unsqueeze to add a dimension at position 1\n",
        "unsqueezed_dim1 = torch.unsqueeze(tensor, dim=1)  # Shape: (3, 1)\n",
        "print(\"Unsqueezed Along Dimension 1 Shape:\", unsqueezed_dim1.shape)\n"
      ],
      "metadata": {
        "colab": {
          "base_uri": "https://localhost:8080/"
        },
        "id": "xJvFs3lIejCu",
        "outputId": "2a6663c1-ba63-46ae-d8a3-fe6c6b183e24"
      },
      "execution_count": 7,
      "outputs": [
        {
          "output_type": "stream",
          "name": "stdout",
          "text": [
            "Original Tensor Shape: torch.Size([3])\n",
            "Unsqueezed Tensor Shape: torch.Size([1, 3])\n",
            "Unsqueezed Tensor:\n",
            " tensor([[1, 2, 3]])\n",
            "Unsqueezed Along Dimension 1 Shape: torch.Size([3, 1])\n"
          ]
        }
      ]
    },
    {
      "cell_type": "code",
      "source": [
        "# Create a tensor with shape (2, 3, 4)\n",
        "tensor = torch.randn(2, 3, 4)\n",
        "\n",
        "# Permute dimensions: swap axes 0 and 1\n",
        "permuted = tensor.permute(1, 0, 2)  # Shape becomes (3, 2, 4)\n",
        "\n",
        "print(\"Original Tensor Shape:\", tensor.shape)\n",
        "print(\"Permuted Tensor Shape:\", permuted.shape)\n"
      ],
      "metadata": {
        "colab": {
          "base_uri": "https://localhost:8080/"
        },
        "id": "anvVIitUenfT",
        "outputId": "b56ab1a0-eb2f-4227-a5ff-6d87d0b6c977"
      },
      "execution_count": 8,
      "outputs": [
        {
          "output_type": "stream",
          "name": "stdout",
          "text": [
            "Original Tensor Shape: torch.Size([2, 3, 4])\n",
            "Permuted Tensor Shape: torch.Size([3, 2, 4])\n"
          ]
        }
      ]
    },
    {
      "cell_type": "code",
      "source": [
        "#basic indexing\n",
        "\n",
        "# Create a tensor\n",
        "tensor = torch.tensor([[1, 2, 3], [4, 5, 6], [7, 8, 9]])\n",
        "\n",
        "# Select a single element\n",
        "element = tensor[1, 2]  # Element at row 1, column 2\n",
        "print(\"Single Element:\", element)  # Output: 6\n",
        "\n",
        "# Select a specific row\n",
        "row = tensor[1]  # Second row\n",
        "print(\"Row 1:\", row)  # Output: [4, 5, 6]\n",
        "\n",
        "# Select a specific column\n",
        "column = tensor[:, 2]  # Third column\n",
        "print(\"Column 2:\", column)  # Output: [3, 6, 9]\n",
        "\n",
        "# Slice rows and columns\n",
        "sub_tensor = tensor[0:2, 1:3]  # Rows 0-1, Columns 1-2\n",
        "print(\"Sliced Tensor:\\n\", sub_tensor)  # Output: [[2, 3], [5, 6]]\n"
      ],
      "metadata": {
        "colab": {
          "base_uri": "https://localhost:8080/"
        },
        "id": "WtyeEUyIfJAc",
        "outputId": "e5b65357-b1eb-4517-ee88-29fcf34364de"
      },
      "execution_count": 7,
      "outputs": [
        {
          "output_type": "stream",
          "name": "stdout",
          "text": [
            "Single Element: tensor(6)\n",
            "Row 1: tensor([4, 5, 6])\n",
            "Column 2: tensor([3, 6, 9])\n",
            "Sliced Tensor:\n",
            " tensor([[2, 3],\n",
            "        [5, 6]])\n"
          ]
        }
      ]
    },
    {
      "cell_type": "code",
      "source": [
        "#advanced indexing\n",
        "# Select specific rows using a tensor\n",
        "rows = torch.tensor([0, 2])\n",
        "selected_rows = tensor[rows]\n",
        "print(\"Selected Rows:\\n\", selected_rows)  # Output: [[1, 2, 3], [7, 8, 9]]\n",
        "\n",
        "# Select specific elements with tensor indexing\n",
        "indices = torch.tensor([0, 2])\n",
        "selected_elements = tensor[1, indices]  # Row 1, Columns 0 and 2\n",
        "print(\"Selected Elements:\", selected_elements)  # Output: [4, 6]\n"
      ],
      "metadata": {
        "colab": {
          "base_uri": "https://localhost:8080/"
        },
        "id": "rI5S3mFLYIVP",
        "outputId": "65ef95d5-7385-4acc-f6d5-e1c173e94e86"
      },
      "execution_count": 8,
      "outputs": [
        {
          "output_type": "stream",
          "name": "stdout",
          "text": [
            "Selected Rows:\n",
            " tensor([[1, 2, 3],\n",
            "        [7, 8, 9]])\n",
            "Selected Elements: tensor([4, 6])\n"
          ]
        }
      ]
    },
    {
      "cell_type": "code",
      "source": [
        "#boolean indexing\n",
        "# Create a boolean mask\n",
        "mask = tensor > 5\n",
        "print(\"Boolean Mask:\\n\", mask)  # True where elements > 5\n",
        "\n",
        "# Select elements that satisfy the condition\n",
        "filtered = tensor[mask]\n",
        "print(\"Filtered Elements:\", filtered)  # Output: [6, 7, 8, 9]\n"
      ],
      "metadata": {
        "colab": {
          "base_uri": "https://localhost:8080/"
        },
        "id": "ZLSnvIJmYP5z",
        "outputId": "920ad43f-7406-48fe-b19c-793ba45a56bc"
      },
      "execution_count": 9,
      "outputs": [
        {
          "output_type": "stream",
          "name": "stdout",
          "text": [
            "Boolean Mask:\n",
            " tensor([[False, False, False],\n",
            "        [False, False,  True],\n",
            "        [ True,  True,  True]])\n",
            "Filtered Elements: tensor([6, 7, 8, 9])\n"
          ]
        }
      ]
    },
    {
      "cell_type": "code",
      "source": [
        "#fancy indexing\n",
        "# Select specific elements using row and column indices\n",
        "rows = torch.tensor([0, 2])\n",
        "cols = torch.tensor([1, 2])\n",
        "selected = tensor[rows, cols]  # (0,1) and (2,2)\n",
        "print(\"Fancy Indexed Elements:\", selected)  # Output: [2, 9]\n"
      ],
      "metadata": {
        "colab": {
          "base_uri": "https://localhost:8080/"
        },
        "id": "lxUkwIVnYWJA",
        "outputId": "157db0f4-9dae-4b1c-de15-fcac619138d5"
      },
      "execution_count": 10,
      "outputs": [
        {
          "output_type": "stream",
          "name": "stdout",
          "text": [
            "Fancy Indexed Elements: tensor([2, 9])\n"
          ]
        }
      ]
    },
    {
      "cell_type": "code",
      "source": [
        "#selecting along dimension\n",
        "# Select specific rows (dim=0)\n",
        "selected_rows = torch.index_select(tensor, dim=0, index=torch.tensor([0, 2]))\n",
        "print(\"Selected Rows:\\n\", selected_rows)  # Output: [[1, 2, 3], [7, 8, 9]]\n",
        "\n",
        "# Select specific columns (dim=1)\n",
        "selected_columns = torch.index_select(tensor, dim=1, index=torch.tensor([0, 2]))\n",
        "print(\"Selected Columns:\\n\", selected_columns)  # Output: [[1, 3], [4, 6], [7, 9]]\n"
      ],
      "metadata": {
        "colab": {
          "base_uri": "https://localhost:8080/"
        },
        "id": "n-gZoX1qYarG",
        "outputId": "634ea064-0582-464a-f0bd-2af159b097b6"
      },
      "execution_count": 11,
      "outputs": [
        {
          "output_type": "stream",
          "name": "stdout",
          "text": [
            "Selected Rows:\n",
            " tensor([[1, 2, 3],\n",
            "        [7, 8, 9]])\n",
            "Selected Columns:\n",
            " tensor([[1, 3],\n",
            "        [4, 6],\n",
            "        [7, 9]])\n"
          ]
        }
      ]
    },
    {
      "cell_type": "code",
      "source": [],
      "metadata": {
        "id": "JOJLCah4YfKY"
      },
      "execution_count": null,
      "outputs": []
    }
  ]
}