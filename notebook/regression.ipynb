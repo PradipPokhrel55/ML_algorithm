{
  "nbformat": 4,
  "nbformat_minor": 0,
  "metadata": {
    "colab": {
      "provenance": []
    },
    "kernelspec": {
      "name": "python3",
      "display_name": "Python 3"
    },
    "language_info": {
      "name": "python"
    }
  },
  "cells": [
    {
      "cell_type": "code",
      "source": [
        "!pip install numpy pandas matplotlib scikit-learn seaborn\n"
      ],
      "metadata": {
        "colab": {
          "base_uri": "https://localhost:8080/"
        },
        "collapsed": true,
        "id": "HSu2rwffOdYp",
        "outputId": "ad052517-86f2-4803-a4af-e601da2c7b27"
      },
      "execution_count": 4,
      "outputs": [
        {
          "output_type": "stream",
          "name": "stdout",
          "text": [
            "Requirement already satisfied: numpy in /usr/local/lib/python3.10/dist-packages (1.26.4)\n",
            "Requirement already satisfied: pandas in /usr/local/lib/python3.10/dist-packages (2.2.2)\n",
            "Requirement already satisfied: matplotlib in /usr/local/lib/python3.10/dist-packages (3.8.0)\n",
            "Requirement already satisfied: scikit-learn in /usr/local/lib/python3.10/dist-packages (1.5.2)\n",
            "Requirement already satisfied: seaborn in /usr/local/lib/python3.10/dist-packages (0.13.2)\n",
            "Requirement already satisfied: python-dateutil>=2.8.2 in /usr/local/lib/python3.10/dist-packages (from pandas) (2.8.2)\n",
            "Requirement already satisfied: pytz>=2020.1 in /usr/local/lib/python3.10/dist-packages (from pandas) (2024.2)\n",
            "Requirement already satisfied: tzdata>=2022.7 in /usr/local/lib/python3.10/dist-packages (from pandas) (2024.2)\n",
            "Requirement already satisfied: contourpy>=1.0.1 in /usr/local/lib/python3.10/dist-packages (from matplotlib) (1.3.1)\n",
            "Requirement already satisfied: cycler>=0.10 in /usr/local/lib/python3.10/dist-packages (from matplotlib) (0.12.1)\n",
            "Requirement already satisfied: fonttools>=4.22.0 in /usr/local/lib/python3.10/dist-packages (from matplotlib) (4.54.1)\n",
            "Requirement already satisfied: kiwisolver>=1.0.1 in /usr/local/lib/python3.10/dist-packages (from matplotlib) (1.4.7)\n",
            "Requirement already satisfied: packaging>=20.0 in /usr/local/lib/python3.10/dist-packages (from matplotlib) (24.2)\n",
            "Requirement already satisfied: pillow>=6.2.0 in /usr/local/lib/python3.10/dist-packages (from matplotlib) (11.0.0)\n",
            "Requirement already satisfied: pyparsing>=2.3.1 in /usr/local/lib/python3.10/dist-packages (from matplotlib) (3.2.0)\n",
            "Requirement already satisfied: scipy>=1.6.0 in /usr/local/lib/python3.10/dist-packages (from scikit-learn) (1.13.1)\n",
            "Requirement already satisfied: joblib>=1.2.0 in /usr/local/lib/python3.10/dist-packages (from scikit-learn) (1.4.2)\n",
            "Requirement already satisfied: threadpoolctl>=3.1.0 in /usr/local/lib/python3.10/dist-packages (from scikit-learn) (3.5.0)\n",
            "Requirement already satisfied: six>=1.5 in /usr/local/lib/python3.10/dist-packages (from python-dateutil>=2.8.2->pandas) (1.16.0)\n"
          ]
        }
      ]
    },
    {
      "cell_type": "code",
      "source": [
        "import numpy as np\n",
        "import pandas as pd\n",
        "import seaborn as sns\n",
        "import matplotlib.pyplot as plt\n",
        "from sklearn.model_selection import train_test_split"
      ],
      "metadata": {
        "id": "alPbWY62u7cb"
      },
      "execution_count": 5,
      "outputs": []
    },
    {
      "cell_type": "code",
      "source": [
        "df = pd.read_csv('BNBUSD_1m_Binance.csv')\n",
        "print(df.head())"
      ],
      "metadata": {
        "colab": {
          "base_uri": "https://localhost:8080/"
        },
        "id": "-imIJr9kvQS3",
        "outputId": "4b06174f-dbfa-432a-cc6f-794c769b72d8"
      },
      "execution_count": 15,
      "outputs": [
        {
          "output_type": "stream",
          "name": "stdout",
          "text": [
            "             Open time  Open  High  Low  Close  Volume  \\\n",
            "0  2017-11-06 03:54:00   1.5  1.50  1.5   1.50   10.83   \n",
            "1  2017-11-06 03:55:00   1.3  1.30  1.3   1.30    1.00   \n",
            "2  2017-11-06 03:56:00   1.3  1.30  0.5   0.50   19.00   \n",
            "3  2017-11-06 03:57:00   0.5  0.61  0.5   0.61  253.00   \n",
            "4  2017-11-06 03:58:00   1.1  1.10  1.1   1.10   85.00   \n",
            "\n",
            "                Close time  Quote asset volume  Number of trades  \\\n",
            "0  2017-11-06 03:54:59.999              16.245               2.0   \n",
            "1  2017-11-06 03:55:59.999               1.300               1.0   \n",
            "2  2017-11-06 03:56:59.999              24.356               6.0   \n",
            "3  2017-11-06 03:57:59.999             151.660              17.0   \n",
            "4  2017-11-06 03:58:59.999              93.500               1.0   \n",
            "\n",
            "   Taker buy base asset volume  Taker buy quote asset volume  Ignore  \n",
            "0                        10.83                        16.245     0.0  \n",
            "1                         0.00                         0.000     0.0  \n",
            "2                         0.33                         0.429     0.0  \n",
            "3                         0.00                         0.000     0.0  \n",
            "4                         0.00                         0.000     0.0  \n"
          ]
        }
      ]
    },
    {
      "cell_type": "code",
      "source": [
        "df = df.drop(columns=['Open time','Close time'])"
      ],
      "metadata": {
        "id": "OYpb5kI-xNdr"
      },
      "execution_count": 16,
      "outputs": []
    },
    {
      "cell_type": "code",
      "source": [
        "print(df.head())"
      ],
      "metadata": {
        "colab": {
          "base_uri": "https://localhost:8080/"
        },
        "id": "RBtOvmnLz4M-",
        "outputId": "6ff65e4d-de71-47a6-aea3-20e077d65ee0"
      },
      "execution_count": 17,
      "outputs": [
        {
          "output_type": "stream",
          "name": "stdout",
          "text": [
            "   Open  High  Low  Close  Volume  Quote asset volume  Number of trades  \\\n",
            "0   1.5  1.50  1.5   1.50   10.83              16.245               2.0   \n",
            "1   1.3  1.30  1.3   1.30    1.00               1.300               1.0   \n",
            "2   1.3  1.30  0.5   0.50   19.00              24.356               6.0   \n",
            "3   0.5  0.61  0.5   0.61  253.00             151.660              17.0   \n",
            "4   1.1  1.10  1.1   1.10   85.00              93.500               1.0   \n",
            "\n",
            "   Taker buy base asset volume  Taker buy quote asset volume  Ignore  \n",
            "0                        10.83                        16.245     0.0  \n",
            "1                         0.00                         0.000     0.0  \n",
            "2                         0.33                         0.429     0.0  \n",
            "3                         0.00                         0.000     0.0  \n",
            "4                         0.00                         0.000     0.0  \n"
          ]
        }
      ]
    },
    {
      "cell_type": "code",
      "source": [
        "df = df.drop(columns=['Ignore','Taker buy base asset volume','Taker buy quote asset volume'])"
      ],
      "metadata": {
        "id": "6LD0xAQgz7-e"
      },
      "execution_count": 18,
      "outputs": []
    },
    {
      "cell_type": "code",
      "source": [
        "print(df)"
      ],
      "metadata": {
        "colab": {
          "base_uri": "https://localhost:8080/"
        },
        "id": "WsiPELFP16EA",
        "outputId": "a55badfa-6055-4429-a552-876583590177"
      },
      "execution_count": 19,
      "outputs": [
        {
          "output_type": "stream",
          "name": "stdout",
          "text": [
            "         Open    High     Low   Close   Volume  Quote asset volume  \\\n",
            "0      1.5000  1.5000  1.5000  1.5000    10.83           16.245000   \n",
            "1      1.3000  1.3000  1.3000  1.3000     1.00            1.300000   \n",
            "2      1.3000  1.3000  0.5000  0.5000    19.00           24.356000   \n",
            "3      0.5000  0.6100  0.5000  0.6100   253.00          151.660000   \n",
            "4      1.1000  1.1000  1.1000  1.1000    85.00           93.500000   \n",
            "...       ...     ...     ...     ...      ...                 ...   \n",
            "72265  7.5461  7.5850  7.5461  7.5850  1499.06        11335.063746   \n",
            "72266  7.5948  7.6025  7.5948  7.6025  1181.19         8976.975099   \n",
            "72267  7.6174  7.6500  7.6174  7.6400  2185.35        16707.317274   \n",
            "72268  7.6223  7.6231  7.6001  7.6001  2780.54        21141.863885   \n",
            "72269  7.6018  7.6181  7.6001  7.6100   808.97            6.000000   \n",
            "\n",
            "       Number of trades  \n",
            "0                   2.0  \n",
            "1                   1.0  \n",
            "2                   6.0  \n",
            "3                  17.0  \n",
            "4                   1.0  \n",
            "...                 ...  \n",
            "72265              27.0  \n",
            "72266              29.0  \n",
            "72267              41.0  \n",
            "72268              52.0  \n",
            "72269               NaN  \n",
            "\n",
            "[72270 rows x 7 columns]\n"
          ]
        }
      ]
    },
    {
      "cell_type": "code",
      "source": [
        "print(df.head())"
      ],
      "metadata": {
        "colab": {
          "base_uri": "https://localhost:8080/"
        },
        "id": "zVLEWHd15c2t",
        "outputId": "5b9185d0-be72-4718-de69-35158d23df9d"
      },
      "execution_count": 20,
      "outputs": [
        {
          "output_type": "stream",
          "name": "stdout",
          "text": [
            "   Open  High  Low  Close  Volume  Quote asset volume  Number of trades\n",
            "0   1.5  1.50  1.5   1.50   10.83              16.245               2.0\n",
            "1   1.3  1.30  1.3   1.30    1.00               1.300               1.0\n",
            "2   1.3  1.30  0.5   0.50   19.00              24.356               6.0\n",
            "3   0.5  0.61  0.5   0.61  253.00             151.660              17.0\n",
            "4   1.1  1.10  1.1   1.10   85.00              93.500               1.0\n"
          ]
        }
      ]
    },
    {
      "cell_type": "code",
      "source": [
        "x = df[['Open']]\n",
        "y = df[['Close']]\n",
        "plt.figure(figsize=(10,6))\n",
        "plt.xlabel('Open')\n",
        "plt.ylabel('Close')\n",
        "plt.title('Predicting close with open')\n",
        "plt.scatter(x,y, marker='o', color='g')"
      ],
      "metadata": {
        "colab": {
          "base_uri": "https://localhost:8080/",
          "height": 582
        },
        "id": "Fnb8Vv3z5jgm",
        "outputId": "f734c328-9175-4b51-bfc8-20aea902df24"
      },
      "execution_count": 21,
      "outputs": [
        {
          "output_type": "execute_result",
          "data": {
            "text/plain": [
              "<matplotlib.collections.PathCollection at 0x789f6be83880>"
            ]
          },
          "metadata": {},
          "execution_count": 21
        },
        {
          "output_type": "display_data",
          "data": {
            "text/plain": [
              "<Figure size 1000x600 with 1 Axes>"
            ],
            "image/png": "[encoded data removed]"
          },
          "metadata": {}
        }
      ]
    },
    {
      "cell_type": "code",
      "source": [
        "df_sampled = df.sample(frac=0.1, random_state=42)\n",
        "\n",
        "\n",
        "df_sampled.to_csv('reduced_file.csv', index=False)"
      ],
      "metadata": {
        "id": "pyUAp2N4_NsI"
      },
      "execution_count": 22,
      "outputs": []
    },
    {
      "cell_type": "code",
      "source": [
        "df = pd.read_csv('reduced_file.csv')\n",
        "print(df.info())"
      ],
      "metadata": {
        "colab": {
          "base_uri": "https://localhost:8080/"
        },
        "id": "y3Xdp_TsC15q",
        "outputId": "fb06d6d4-163a-417b-d4c2-a80eb7708122"
      },
      "execution_count": 23,
      "outputs": [
        {
          "output_type": "stream",
          "name": "stdout",
          "text": [
            "<class 'pandas.core.frame.DataFrame'>\n",
            "RangeIndex: 7227 entries, 0 to 7226\n",
            "Data columns (total 7 columns):\n",
            " #   Column              Non-Null Count  Dtype  \n",
            "---  ------              --------------  -----  \n",
            " 0   Open                7227 non-null   float64\n",
            " 1   High                7227 non-null   float64\n",
            " 2   Low                 7227 non-null   float64\n",
            " 3   Close               7227 non-null   float64\n",
            " 4   Volume              7227 non-null   float64\n",
            " 5   Quote asset volume  7227 non-null   float64\n",
            " 6   Number of trades    7227 non-null   float64\n",
            "dtypes: float64(7)\n",
            "memory usage: 395.4 KB\n",
            "None\n"
          ]
        }
      ]
    },
    {
      "cell_type": "code",
      "source": [
        "x = df[['Open']]\n",
        "y = df[['Close']]\n",
        "plt.figure(figsize=(10,6))\n",
        "plt.xlabel('Open')\n",
        "plt.ylabel('Close')\n",
        "plt.title('Predicting close with open')\n",
        "plt.scatter(x,y, marker='o', color='g')"
      ],
      "metadata": {
        "colab": {
          "base_uri": "https://localhost:8080/",
          "height": 582
        },
        "id": "wX_nepD2DDPF",
        "outputId": "582f732d-3089-4cd7-b2c8-5691afbff77b"
      },
      "execution_count": 24,
      "outputs": [
        {
          "output_type": "execute_result",
          "data": {
            "text/plain": [
              "<matplotlib.collections.PathCollection at 0x789f6ad3b010>"
            ]
          },
          "metadata": {},
          "execution_count": 24
        },
        {
          "output_type": "display_data",
          "data": {
            "text/plain": [
              "<Figure size 1000x600 with 1 Axes>"
            ],
            "image/png": "[encoded data removed]"
          },
          "metadata": {}
        }
      ]
    },
    {
      "cell_type": "code",
      "source": [
        "from scipy import stats\n",
        "sns.set(color_codes=True)\n",
        "\n",
        "slope, intercept, r_value, p_value, std_err = stats.linregress(df['Open'],df['Close'])\n",
        "\n",
        "f = plt.figure(figsize=(10,6))\n",
        "data = df[['Open','Close']]\n",
        "ax = sns.regplot(x='Open', y='Close', data=data,\n",
        "                 scatter_kws={\"color\": \"g\"},\n",
        "                line_kws={'color': 'r', 'label':\"y={0:.1f}x+{1:.1f}\".format(slope,intercept)})\n",
        "ax.legend()"
      ],
      "metadata": {
        "colab": {
          "base_uri": "https://localhost:8080/",
          "height": 568
        },
        "id": "guBPlAv5DPOK",
        "outputId": "27f0456b-d97c-41d8-ec57-231b1604bb4c"
      },
      "execution_count": 25,
      "outputs": [
        {
          "output_type": "execute_result",
          "data": {
            "text/plain": [
              "<matplotlib.legend.Legend at 0x789f688f3670>"
            ]
          },
          "metadata": {},
          "execution_count": 25
        },
        {
          "output_type": "display_data",
          "data": {
            "text/plain": [
              "<Figure size 1000x600 with 1 Axes>"
            ],
            "image/png": "[encoded data removed]"
          },
          "metadata": {}
        }
      ]
    },
    {
      "cell_type": "code",
      "source": [
        "print(slope, intercept)"
      ],
      "metadata": {
        "colab": {
          "base_uri": "https://localhost:8080/"
        },
        "id": "8QSlLgZFET2q",
        "outputId": "5238cc70-3a67-4841-e369-dda01e6fcc34"
      },
      "execution_count": 26,
      "outputs": [
        {
          "output_type": "stream",
          "name": "stdout",
          "text": [
            "1.0002391470511738 -0.0006031756353048756\n"
          ]
        }
      ]
    },
    {
      "cell_type": "code",
      "source": [
        "print(std_err)"
      ],
      "metadata": {
        "colab": {
          "base_uri": "https://localhost:8080/"
        },
        "id": "KAUNU8z_GglM",
        "outputId": "aaf39426-3a85-495c-db89-19526777ba40"
      },
      "execution_count": 27,
      "outputs": [
        {
          "output_type": "stream",
          "name": "stdout",
          "text": [
            "0.00014062961004918182\n"
          ]
        }
      ]
    },
    {
      "cell_type": "code",
      "source": [
        "X = df['Open'].values\n",
        "Y = df['Close'].values"
      ],
      "metadata": {
        "id": "Py2fjPqcGm-z"
      },
      "execution_count": 28,
      "outputs": []
    },
    {
      "cell_type": "code",
      "source": [
        "mean_X = np.mean(X)\n",
        "mean_Y = np.mean(Y)"
      ],
      "metadata": {
        "id": "Q8otLeOpPvwM"
      },
      "execution_count": 29,
      "outputs": []
    },
    {
      "cell_type": "code",
      "source": [
        "numerator = np.sum((X - mean_X) * (Y - mean_Y))\n",
        "denominator = np.sum((X - mean_X)**2)\n",
        "slope = numerator / denominator\n",
        "intercept = mean_Y - slope * mean_X\n",
        "\n",
        "print(f\"Slope (m): {slope}\")\n",
        "print(f\"Intercept (b): {intercept}\")"
      ],
      "metadata": {
        "colab": {
          "base_uri": "https://localhost:8080/"
        },
        "id": "4X4kbvHWP6C7",
        "outputId": "acad4ecc-414f-453b-fb72-e43caaadf008"
      },
      "execution_count": 30,
      "outputs": [
        {
          "output_type": "stream",
          "name": "stdout",
          "text": [
            "Slope (m): 1.000239147051174\n",
            "Intercept (b): -0.0006031756353053197\n"
          ]
        }
      ]
    },
    {
      "cell_type": "code",
      "source": [
        "#multi dimensional linear regression where open and close are dependent variable and high is independent variable using numpy and pandas"
      ],
      "metadata": {
        "id": "TUxnTbNIQBkc"
      },
      "execution_count": 31,
      "outputs": []
    },
    {
      "cell_type": "code",
      "source": [
        "X = df[['Open', 'Close']].values\n",
        "Y = df['High'].values"
      ],
      "metadata": {
        "id": "HcqErOL1UlDo"
      },
      "execution_count": 32,
      "outputs": []
    },
    {
      "cell_type": "code",
      "source": [
        "X = np.hstack((np.ones((X.shape[0], 1)), X))\n",
        "\n",
        "coefficients = np.linalg.inv(X.T @ X) @ X.T @ Y\n",
        "\n",
        "print(f\"Coefficients: {coefficients}\")\n",
        "\n",
        "intercept = coefficients[0]\n",
        "slopes = coefficients[1:]\n",
        "\n",
        "print(f\"Intercept (b0): {intercept}\")\n",
        "print(f\"Slopes (b1, b2, ...): {slopes}\")\n",
        "\n",
        "Y_pred = X @ coefficients\n",
        "\n",
        "print(\"\\nActual vs Predicted:\")\n",
        "print(pd.DataFrame({'Actual': Y, 'Predicted': Y_pred}))"
      ],
      "metadata": {
        "colab": {
          "base_uri": "https://localhost:8080/"
        },
        "id": "vW4SU967VA61",
        "outputId": "c688c89a-1ce3-47d2-9c8b-94695bb33649"
      },
      "execution_count": 33,
      "outputs": [
        {
          "output_type": "stream",
          "name": "stdout",
          "text": [
            "Coefficients: [-0.0061874   0.54482844  0.45917181]\n",
            "Intercept (b0): -0.006187397938141572\n",
            "Slopes (b1, b2, ...): [0.54482844 0.45917181]\n",
            "\n",
            "Actual vs Predicted:\n",
            "      Actual  Predicted\n",
            "0     2.4264   2.415535\n",
            "1     1.9300   1.931533\n",
            "2     2.5700   2.572350\n",
            "3     2.4266   2.422497\n",
            "4     2.4197   2.423192\n",
            "...      ...        ...\n",
            "7222  4.8398   4.836075\n",
            "7223  1.9301   1.931633\n",
            "7224  1.5998   1.600012\n",
            "7225  1.6945   1.695091\n",
            "7226  1.6550   1.655433\n",
            "\n",
            "[7227 rows x 2 columns]\n"
          ]
        }
      ]
    },
    {
      "cell_type": "code",
      "source": [
        "#linear regression using gradient descent"
      ],
      "metadata": {
        "id": "nWn9wSH-aGYL"
      },
      "execution_count": 34,
      "outputs": []
    },
    {
      "cell_type": "code",
      "source": [
        "\n",
        "X = df[['Open']].values\n",
        "Y = df['High'].values\n",
        "\n",
        "from sklearn.preprocessing import StandardScaler\n",
        "scaler = StandardScaler()\n",
        "X_scaled = scaler.fit_transform(X)\n",
        "\n",
        "\n",
        "X_scaled = np.hstack((np.ones((X_scaled.shape[0], 1)), X_scaled))\n",
        "\n",
        "\n",
        "Y = Y.reshape(-1, 1)\n",
        "\n",
        "m = X_scaled.shape[0]\n",
        "n = X_scaled.shape[1]\n",
        "\n",
        "\n",
        "learning_rate = 0.001\n",
        "iterations = 1000\n",
        "\n",
        "theta = np.zeros((n, 1))\n",
        "\n",
        "for _ in range(iterations):\n",
        "    Y_pred = X_scaled @ theta\n",
        "\n",
        "    error = Y_pred - Y\n",
        "\n",
        "    error = error.reshape(-1, 1)\n",
        "\n",
        "    gradient = (1 / m) * X_scaled.T @ error\n",
        "\n",
        "    theta -= learning_rate * gradient\n",
        "\n",
        "print(\"Coefficients:\", theta)\n"
      ],
      "metadata": {
        "colab": {
          "base_uri": "https://localhost:8080/"
        },
        "id": "mlpta6qJkVYS",
        "outputId": "cd79352b-ad29-44ed-a59f-32af04e589fa"
      },
      "execution_count": 35,
      "outputs": [
        {
          "output_type": "stream",
          "name": "stdout",
          "text": [
            "Coefficients: [[1.70096704]\n",
            " [0.89389653]]\n"
          ]
        }
      ]
    },
    {
      "cell_type": "code",
      "source": [
        "#ridge regression\n",
        "X = df[['Open']].values\n",
        "y = df['High'].values\n",
        "\n",
        "X = np.hstack([np.ones((X.shape[0], 1)), X])\n",
        "lambda_ = 0.1\n",
        "\n",
        "m, n = X.shape\n",
        "I = np.eye(n)\n",
        "I[0, 0] = 0\n",
        "\n",
        "beta = np.linalg.inv(X.T @ X + lambda_ * I) @ X.T @ y\n",
        "\n",
        "intercept = beta[0]\n",
        "slopes = beta[1:]\n",
        "\n",
        "print(f\"Intercept (b0): {intercept}\")\n",
        "print(f\"Slopes (b1, b2, ...): {slopes}\")\n",
        "\n",
        "y_pred = X @ beta\n",
        "\n",
        "print(\"\\nActual vs Predicted:\")\n",
        "print(pd.DataFrame({'Actual': y, 'Predicted': y_pred}))\n"
      ],
      "metadata": {
        "colab": {
          "base_uri": "https://localhost:8080/"
        },
        "id": "KD_YS61ToO3p",
        "outputId": "133ab5cf-e422-4e5d-fdf8-c1394c00311e"
      },
      "execution_count": 37,
      "outputs": [
        {
          "output_type": "stream",
          "name": "stdout",
          "text": [
            "Intercept (b0): -0.006445536078600973\n",
            "Slopes (b1, b2, ...): [1.00410305]\n",
            "\n",
            "Actual vs Predicted:\n",
            "      Actual  Predicted\n",
            "0     2.4264   2.403402\n",
            "1     1.9300   1.931473\n",
            "2     2.5700   2.570886\n",
            "3     2.4266   2.430111\n",
            "4     2.4197   2.423183\n",
            "...      ...        ...\n",
            "7222  4.8398   4.853212\n",
            "7223  1.9301   1.931574\n",
            "7224  1.5998   1.599919\n",
            "7225  1.6945   1.695007\n",
            "7226  1.6550   1.655345\n",
            "\n",
            "[7227 rows x 2 columns]\n"
          ]
        }
      ]
    },
    {
      "cell_type": "code",
      "source": [
        "#lasso regression\n",
        "X = df[['Open']].values\n",
        "y = df['High'].values\n",
        "\n",
        "X = np.hstack([np.ones((X.shape[0], 1)), X])\n",
        "\n",
        "lambda_ = 0.1\n",
        "num_iterations = 1000\n",
        "learning_rate = 0.01\n",
        "\n",
        "m, n = X.shape\n",
        "coefficients = np.zeros(n)\n",
        "\n",
        "for _ in range(num_iterations):\n",
        "    for j in range(n):\n",
        "        residual = y - (X @ coefficients - X[:, j] * coefficients[j])\n",
        "\n",
        "        rho = np.sum(X[:, j] * residual)\n",
        "        if j == 0:\n",
        "            coefficients[j] = rho / np.sum(X[:, j] ** 2)\n",
        "        else:\n",
        "            if rho < -lambda_:\n",
        "                coefficients[j] = (rho + lambda_) / np.sum(X[:, j] ** 2)\n",
        "            elif rho > lambda_:\n",
        "                coefficients[j] = (rho - lambda_) / np.sum(X[:, j] ** 2)\n",
        "            else:\n",
        "                coefficients[j] = 0\n",
        "\n",
        "print(f\"Coefficients: {coefficients}\")\n"
      ],
      "metadata": {
        "colab": {
          "base_uri": "https://localhost:8080/"
        },
        "id": "C2utebBo2VTS",
        "outputId": "ee11107e-9efc-497d-91d8-d571f989ce92"
      },
      "execution_count": 39,
      "outputs": [
        {
          "output_type": "stream",
          "name": "stdout",
          "text": [
            "Coefficients: [-0.00644561  1.00410308]\n"
          ]
        }
      ]
    },
    {
      "cell_type": "code",
      "source": [
        "#elastic net"
      ],
      "metadata": {
        "id": "NjnoJhoB87ZI"
      },
      "execution_count": 40,
      "outputs": []
    },
    {
      "cell_type": "code",
      "source": [
        "\n",
        "# Extract features and target\n",
        "X = df[['Open']].values  # Replace 'Open' with the desired feature column(s)\n",
        "y = df['High'].values    # Replace 'High' with the target column\n",
        "\n",
        "# Add an intercept column (bias term)\n",
        "X = np.hstack([np.ones((X.shape[0], 1)), X])\n",
        "\n",
        "# Elastic Net Parameters\n",
        "lambda1 = 0.1  # L1 regularization strength\n",
        "lambda2 = 0.1  # L2 regularization strength\n",
        "num_iterations = 1000  # Number of iterations\n",
        "learning_rate = 0.01  # Learning rate\n",
        "\n",
        "# Initialize coefficients\n",
        "m, n = X.shape\n",
        "coefficients = np.zeros(n)\n",
        "\n",
        "# Elastic Net via Gradient Descent\n",
        "for _ in range(num_iterations):\n",
        "    # Compute predictions\n",
        "    predictions = X @ coefficients\n",
        "\n",
        "    # Compute residuals\n",
        "    residuals = predictions - y\n",
        "\n",
        "    # Gradient computation\n",
        "    gradient = (1 / m) * (X.T @ residuals) + lambda2 * coefficients\n",
        "\n",
        "    # L1 component: soft-thresholding for L1 regularization\n",
        "    for j in range(1, n):  # Skip the intercept\n",
        "        if coefficients[j] > learning_rate * lambda1:\n",
        "            gradient[j] -= learning_rate * lambda1\n",
        "        elif coefficients[j] < -learning_rate * lambda1:\n",
        "            gradient[j] += learning_rate * lambda1\n",
        "        else:\n",
        "            gradient[j] = 0\n",
        "\n",
        "    # Update coefficients\n",
        "    coefficients -= learning_rate * gradient\n",
        "\n",
        "# Display the results\n",
        "print(f\"Coefficients: {coefficients}\")\n"
      ],
      "metadata": {
        "colab": {
          "base_uri": "https://localhost:8080/"
        },
        "id": "xcI8osOl9pp9",
        "outputId": "11618d0d-95d6-4e8b-fc3e-1a24b53f5453"
      },
      "execution_count": 41,
      "outputs": [
        {
          "output_type": "stream",
          "name": "stdout",
          "text": [
            "Coefficients: [2.4455135 0.       ]\n"
          ]
        }
      ]
    },
    {
      "cell_type": "code",
      "source": [],
      "metadata": {
        "id": "90Eki9-e9v4u"
      },
      "execution_count": null,
      "outputs": []
    }
  ]
}