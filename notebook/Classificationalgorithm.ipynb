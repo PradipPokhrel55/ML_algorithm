{
  "cells": [
    {
      "cell_type": "code",
      "execution_count": 26,
      "metadata": {
        "id": "8JdH1IWGHrFh"
      },
      "outputs": [],
      "source": [
        "import pandas as pd\n",
        "import numpy as np\n",
        "import matplotlib.pyplot as mt\n",
        "from sklearn.model_selection import train_test_split\n",
        "from sklearn.datasets import make_classification\n",
        "from collections import Counter\n",
        "from sklearn.metrics import accuracy_score\n",
        "from sklearn.model_selection import StratifiedKFold\n",
        "from sklearn.tree import DecisionTreeClassifier\n",
        "import multiprocessing"
      ]
    },
    {
      "cell_type": "code",
      "execution_count": 27,
      "metadata": {
        "colab": {
          "base_uri": "https://localhost:8080/"
        },
        "id": "hzcGeZe6LKKz",
        "outputId": "65c7ea4b-5683-46c8-a294-9dfa99501c69"
      },
      "outputs": [
        {
          "name": "stdout",
          "output_type": "stream",
          "text": [
            "   Pregnancies  Glucose  BloodPressure  SkinThickness  Insulin   BMI  \\\n",
            "0            6      148             72             35        0  33.6   \n",
            "1            1       85             66             29        0  26.6   \n",
            "2            8      183             64              0        0  23.3   \n",
            "3            1       89             66             23       94  28.1   \n",
            "4            0      137             40             35      168  43.1   \n",
            "\n",
            "   DiabetesPedigreeFunction  Age  Outcome  \n",
            "0                     0.627   50        1  \n",
            "1                     0.351   31        0  \n",
            "2                     0.672   32        1  \n",
            "3                     0.167   21        0  \n",
            "4                     2.288   33        1  \n"
          ]
        }
      ],
      "source": [
        "df = pd.read_csv('diabetes.csv')\n",
        "print(df.head())"
      ]
    },
    {
      "cell_type": "code",
      "execution_count": null,
      "metadata": {
        "colab": {
          "base_uri": "https://localhost:8080/"
        },
        "id": "UYVuYsb0Tqdx",
        "outputId": "70848c3a-4262-4b9b-e870-602e8e30c72b"
      },
      "outputs": [
        {
          "name": "stdout",
          "output_type": "stream",
          "text": [
            "Model Accuracy: 87.50%\n"
          ]
        }
      ],
      "source": [
        "class LogisticRegressionScratch:\n",
        "    def __init__(self, learning_rate=0.01, n_iterations=1000):\n",
        "        self.learning_rate = learning_rate\n",
        "        self.n_iterations = n_iterations\n",
        "        self.weights = None\n",
        "        self.bias = None\n",
        "\n",
        "    def _sigmoid(self, z):\n",
        "        \"\"\"Sigmoid activation function.\"\"\"\n",
        "        return 1 / (1 + np.exp(-z))\n",
        "\n",
        "    def fit(self, X, y):\n",
        "        \"\"\"Train the Logistic Regression model.\"\"\"\n",
        "        n_samples, n_features = X.shape\n",
        "        self.weights = np.zeros(n_features)\n",
        "        self.bias = 0\n",
        "\n",
        "        for _ in range(self.n_iterations):\n",
        "            linear_model = np.dot(X, self.weights) + self.bias\n",
        "            predictions = self._sigmoid(linear_model)\n",
        "\n",
        "            dw = (1 / n_samples) * np.dot(X.T, (predictions - y))\n",
        "            db = (1 / n_samples) * np.sum(predictions - y)\n",
        "\n",
        "            self.weights -= self.learning_rate * dw\n",
        "            self.bias -= self.learning_rate * db\n",
        "\n",
        "    def predict_proba(self, X):\n",
        "        \"\"\"Return predicted probabilities.\"\"\"\n",
        "        linear_model = np.dot(X, self.weights) + self.bias\n",
        "        return self._sigmoid(linear_model)\n",
        "\n",
        "    def predict(self, X):\n",
        "        \"\"\"Return class predictions.\"\"\"\n",
        "        probabilities = self.predict_proba(X)\n",
        "        return (probabilities >= 0.5).astype(int)\n",
        "\n",
        "\n",
        "\n",
        "\n",
        "\n",
        "X, y = make_classification(n_samples=1000, n_features=8, n_classes=2, random_state=42)\n",
        "df = pd.DataFrame(X, columns=['Pregnancies', 'Glucose', 'BloodPressure', 'SkinThickness', 'Insulin', 'BMI','DiabetesPedigreeFunction','Age'])\n",
        "df['Outcome'] = y\n",
        "\n",
        "\n",
        "X_train, X_test, y_train, y_test = train_test_split(df.iloc[:, :-1].values, df['Outcome'].values, test_size=0.2, random_state=42)\n",
        "\n",
        "\n",
        "model = LogisticRegressionScratch(learning_rate=0.1, n_iterations=1000)\n",
        "model.fit(X_train, y_train)\n",
        "\n",
        "\n",
        "y_pred = model.predict(X_test)\n",
        "\n",
        "\n",
        "accuracy = np.mean(y_pred == y_test) * 100\n",
        "print(f\"Model Accuracy: {accuracy:.2f}%\")\n"
      ]
    },
    {
      "cell_type": "code",
      "execution_count": null,
      "metadata": {
        "colab": {
          "base_uri": "https://localhost:8080/"
        },
        "id": "fwBXz3pFVCYF",
        "outputId": "c47d883b-cc94-4238-989a-5d67bf26ffc2"
      },
      "outputs": [
        {
          "name": "stdout",
          "output_type": "stream",
          "text": [
            "KNN Model Accuracy: 0.90\n"
          ]
        }
      ],
      "source": [
        "class KNN:\n",
        "    def __init__(self, k=4):\n",
        "        self.k = k\n",
        "\n",
        "    def fit(self, X, y):\n",
        "        \"\"\"Store the training data.\"\"\"\n",
        "        self.X_train = X\n",
        "        self.y_train = y\n",
        "\n",
        "    def _euclidean_distance(self, x1, x2):\n",
        "        \"\"\"Calculate the Euclidean distance between two points.\"\"\"\n",
        "        return np.sqrt(np.sum((x1 - x2) ** 2))\n",
        "\n",
        "    def predict(self, X):\n",
        "        \"\"\"Predict the class for each sample in X.\"\"\"\n",
        "        predictions = [self._predict_single(x) for x in X]\n",
        "        return np.array(predictions)\n",
        "\n",
        "    def _predict_single(self, x):\n",
        "        \"\"\"Predict the class for a single sample.\"\"\"\n",
        "\n",
        "        distances = [self._euclidean_distance(x, x_train) for x_train in self.X_train]\n",
        "\n",
        "\n",
        "        k_indices = np.argsort(distances)[:self.k]\n",
        "\n",
        "\n",
        "        k_nearest_labels = [self.y_train[i] for i in k_indices]\n",
        "\n",
        "\n",
        "        most_common = Counter(k_nearest_labels).most_common(1)\n",
        "        return most_common[0][0]\n",
        "\n",
        "\n",
        "\n",
        "X, y = make_classification(n_samples=100, n_features=8, n_classes=2, random_state=42)\n",
        "df = pd.DataFrame(X, columns=['Pregnancies', 'Glucose', 'BloodPressure', 'SkinThickness', 'Insulin', 'BMI','DiabetesPedigreeFunction','Age'])\n",
        "df['Outcome'] = y\n",
        "\n",
        "\n",
        "X_train, X_test, y_train, y_test = train_test_split(df.iloc[:, :-1].values, df['Outcome'].values, test_size=0.2, random_state=42)\n",
        "\n",
        "\n",
        "knn = KNN()\n",
        "knn.fit(X_train, y_train)\n",
        "\n",
        "\n",
        "y_pred = knn.predict(X_test)\n",
        "\n",
        "\n",
        "accuracy = accuracy_score(y_test, y_pred)\n",
        "print(f\"KNN Model Accuracy: {accuracy:.2f}\")\n"
      ]
    },
    {
      "cell_type": "code",
      "execution_count": 30,
      "metadata": {
        "colab": {
          "base_uri": "https://localhost:8080/"
        },
        "id": "BsBiL8_IXTsU",
        "outputId": "9a3638aa-3939-44bd-fda5-f95e3d4689ff"
      },
      "outputs": [
        {
          "name": "stdout",
          "output_type": "stream",
          "text": [
            "Cross-validated Accuracy: 0.95\n"
          ]
        }
      ],
      "source": [
        "skf = StratifiedKFold(n_splits=5)\n",
        "accuracies = []\n",
        "\n",
        "for train_index, test_index in skf.split(X, y):\n",
        "    X_train, X_test = X[train_index], X[test_index]\n",
        "    y_train, y_test = y[train_index], y[test_index]\n",
        "\n",
        "    knn = KNN()\n",
        "    knn.fit(X_train, y_train)\n",
        "    y_pred = knn.predict(X_test)\n",
        "    accuracies.append(np.mean(y_pred == y_test))\n",
        "\n",
        "print(f\"Cross-validated Accuracy: {np.mean(accuracies):.2f}\")\n"
      ]
    },
    {
      "cell_type": "code",
      "execution_count": null,
      "metadata": {
        "colab": {
          "base_uri": "https://localhost:8080/"
        },
        "id": "xlf1ufZeZviB",
        "outputId": "d2a959d0-01b6-437f-87de-629ee11d4031"
      },
      "outputs": [
        {
          "name": "stdout",
          "output_type": "stream",
          "text": [
            "Naive Bayes Model Accuracy: 0.91\n"
          ]
        }
      ],
      "source": [
        "class NaiveBayes:\n",
        "    def fit(self, X, y):\n",
        "        \"\"\"Fit the Naive Bayes model.\"\"\"\n",
        "        self.classes = np.unique(y)\n",
        "        self.priors = {c: np.mean(y == c) for c in self.classes}\n",
        "        self.likelihoods = {}\n",
        "\n",
        "        for c in self.classes:\n",
        "            X_c = X[y == c]\n",
        "            self.likelihoods[c] = {\n",
        "                \"mean\": X_c.mean(axis=0),\n",
        "                \"var\": X_c.var(axis=0),\n",
        "            }\n",
        "\n",
        "    def _gaussian_probability(self, x, mean, var):\n",
        "        \"\"\"Calculate Gaussian probability density.\"\"\"\n",
        "        eps = 1e-6  \n",
        "        coeff = 1 / np.sqrt(2 * np.pi * (var + eps))\n",
        "        exponent = np.exp(-((x - mean) ** 2) / (2 * (var + eps)))\n",
        "        return coeff * exponent\n",
        "\n",
        "    def _calculate_posterior(self, x):\n",
        "        \"\"\"Calculate posterior probabilities for each class.\"\"\"\n",
        "        posteriors = {}\n",
        "        for c in self.classes:\n",
        "            prior = self.priors[c]\n",
        "            likelihood = np.prod(\n",
        "                self._gaussian_probability(x, self.likelihoods[c][\"mean\"], self.likelihoods[c][\"var\"])\n",
        "            )\n",
        "            posteriors[c] = prior * likelihood\n",
        "        return posteriors\n",
        "\n",
        "    def predict(self, X):\n",
        "        \"\"\"Predict the class labels.\"\"\"\n",
        "        predictions = []\n",
        "        for x in X:\n",
        "            posteriors = self._calculate_posterior(x)\n",
        "            predictions.append(max(posteriors, key=posteriors.get))\n",
        "        return np.array(predictions)\n",
        "\n",
        "\n",
        "\n",
        "\n",
        "X, y = make_classification(n_samples=500, n_features=8, n_classes=2, random_state=42)\n",
        "df = pd.DataFrame(X, columns=['Pregnancies', 'Glucose', 'BloodPressure', 'SkinThickness', 'Insulin', 'BMI','DiabetesPedigreeFunction','Age'])\n",
        "df[\"Outcome\"] = y\n",
        "\n",
        "\n",
        "X_train, X_test, y_train, y_test = train_test_split(\n",
        "    df.iloc[:, :-1].values, df[\"Outcome\"].values, test_size=0.2, random_state=42\n",
        ")\n",
        "\n",
        "\n",
        "nb = NaiveBayes()\n",
        "nb.fit(X_train, y_train)\n",
        "\n",
        "y_pred = nb.predict(X_test)\n",
        "\n",
        "accuracy = accuracy_score(y_test, y_pred)\n",
        "print(f\"Naive Bayes Model Accuracy: {accuracy:.2f}\")\n"
      ]
    },
    {
      "cell_type": "code",
      "execution_count": null,
      "metadata": {
        "colab": {
          "base_uri": "https://localhost:8080/"
        },
        "id": "Tzgbn0ANb0nV",
        "outputId": "a83134cb-8fc1-476b-96fb-29aa937056ae"
      },
      "outputs": [
        {
          "name": "stdout",
          "output_type": "stream",
          "text": [
            "Advanced XGBoost Model Accuracy: 0.49\n"
          ]
        }
      ],
      "source": [
        "import numpy as np\n",
        "import pandas as pd\n",
        "from sklearn.model_selection import train_test_split\n",
        "from sklearn.datasets import make_classification\n",
        "from sklearn.tree import DecisionTreeClassifier\n",
        "from sklearn.metrics import accuracy_score\n",
        "from collections import Counter\n",
        "from joblib import Parallel, delayed\n",
        "\n",
        "class AdvancedXGBoost:\n",
        "    def __init__(self, learning_rate=0.1, n_estimators=100, max_depth=3, gamma=0, lambda_=1, alpha=0):\n",
        "        self.learning_rate = learning_rate  \n",
        "        self.n_estimators = n_estimators  \n",
        "        self.max_depth = max_depth  \n",
        "        self.gamma = gamma  \n",
        "        self.lambda_ = lambda_  \n",
        "        self.alpha = alpha  \n",
        "        self.models = []  \n",
        "        self.y_mean = None  \n",
        "\n",
        "    def fit(self, X, y):\n",
        "        \"\"\"Fit the model to the training data.\"\"\"\n",
        "        self.y_mean = np.mean(y)\n",
        "        predictions = np.full_like(y, self.y_mean, dtype=np.float32)\n",
        "\n",
        "        for _ in range(self.n_estimators):\n",
        "            residuals = y - predictions\n",
        "\n",
        "            model = DecisionTreeClassifier(max_depth=self.max_depth)\n",
        "            model.fit(X, residuals)\n",
        "\n",
        "            residual_preds = model.predict(X)\n",
        "\n",
        "            residual_preds = self._apply_regularization(residual_preds)\n",
        "\n",
        "            predictions += self.learning_rate * residual_preds\n",
        "\n",
        "            self.models.append(model)\n",
        "\n",
        "    def _apply_regularization(self, residual_preds):\n",
        "        \"\"\"Apply L1 and L2 regularization on the leaf values.\"\"\"\n",
        "        residual_preds = np.sign(residual_preds) * np.maximum(np.abs(residual_preds) - self.alpha, 0)\n",
        "\n",
        "        residual_preds -= self.lambda_ * residual_preds\n",
        "        return residual_preds\n",
        "\n",
        "    def predict(self, X):\n",
        "        \"\"\"Make predictions using the fitted model.\"\"\"\n",
        "        predictions = np.full(X.shape[0], self.y_mean, dtype=np.float32)\n",
        "\n",
        "        for model in self.models:\n",
        "            residual_preds = model.predict(X)\n",
        "            residual_preds = self._apply_regularization(residual_preds)\n",
        "            predictions += self.learning_rate * residual_preds\n",
        "\n",
        "        return np.round(predictions).astype(int)  \n",
        "\n",
        "    def _parallel_tree_building(self, X, y, start_idx, end_idx):\n",
        "        \"\"\"Parallelize tree building (simulated)\"\"\"\n",
        "        model = DecisionTreeClassifier(max_depth=self.max_depth)\n",
        "        model.fit(X[start_idx:end_idx], y[start_idx:end_idx])\n",
        "        return model\n",
        "\n",
        "    def fit_parallel(self, X, y):\n",
        "        \"\"\"Fit the model to the training data using parallelism.\"\"\"\n",
        "        self.y_mean = np.mean(y)\n",
        "        predictions = np.full_like(y, self.y_mean, dtype=np.float32)\n",
        "\n",
        "        chunk_size = len(X) // self.n_estimators\n",
        "        results = Parallel(n_jobs=-1)(delayed(self._parallel_tree_building)(X, y, i*chunk_size, (i+1)*chunk_size) for i in range(self.n_estimators))\n",
        "\n",
        "        for model in results:\n",
        "            residuals = y - predictions\n",
        "\n",
        "            residual_preds = model.predict(X)\n",
        "\n",
        "            residual_preds = self._apply_regularization(residual_preds)\n",
        "\n",
        "            predictions += self.learning_rate * residual_preds\n",
        "            self.models.append(model)\n",
        "\n",
        "X, y = make_classification(n_samples=500, n_features=8, n_classes=2, random_state=42)\n",
        "df = pd.DataFrame(X, columns=['Pregnancies', 'Glucose', 'BloodPressure', 'SkinThickness', 'Insulin', 'BMI','DiabetesPedigreeFunction','Age'])\n",
        "df[\"Outcome\"] = y\n",
        "\n",
        "X_train, X_test, y_train, y_test = train_test_split(df.iloc[:, :-1].values, df[\"Outcome\"].values, test_size=0.2, random_state=42)\n",
        "\n",
        "y_train = y_train.astype(int)\n",
        "y_test = y_test.astype(int)\n",
        "\n",
        "model = AdvancedXGBoost(learning_rate=0.1, n_estimators=100, max_depth=3, gamma=0, lambda_=1, alpha=0)\n",
        "model.fit_parallel(X_train, y_train)\n",
        "\n",
        "y_pred = model.predict(X_test)\n",
        "\n",
        "accuracy = accuracy_score(y_test, y_pred)\n",
        "print(f\"Advanced XGBoost Model Accuracy: {accuracy:.2f}\")\n"
      ]
    },
    {
      "cell_type": "code",
      "execution_count": null,
      "metadata": {
        "id": "NQdeo8FJdmcc"
      },
      "outputs": [],
      "source": []
    }
  ],
  "metadata": {
    "colab": {
      "provenance": []
    },
    "kernelspec": {
      "display_name": "Python 3",
      "name": "python3"
    },
    "language_info": {
      "name": "python"
    }
  },
  "nbformat": 4,
  "nbformat_minor": 0
}
